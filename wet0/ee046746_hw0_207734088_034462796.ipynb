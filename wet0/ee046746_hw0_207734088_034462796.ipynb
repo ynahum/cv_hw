{
 "nbformat": 4,
 "nbformat_minor": 0,
 "metadata": {
  "kernelspec": {
   "name": "pycharm-2120084b",
   "language": "python",
   "display_name": "PyCharm (hw0)"
  },
  "language_info": {
   "codemirror_mode": {
    "name": "ipython",
    "version": 3
   },
   "file_extension": ".py",
   "mimetype": "text/x-python",
   "name": "python",
   "nbconvert_exporter": "python",
   "pygments_lexer": "ipython3",
   "version": "3.6.8"
  },
  "colab": {
   "name": "ee046746_hw0_207734088_034462796.ipynb",
   "provenance": [],
   "collapsed_sections": []
  }
 },
 "cells": [
  {
   "cell_type": "markdown",
   "metadata": {
    "id": "cj36CrOml4KF"
   },
   "source": [
    "# <img src=\"https://img.icons8.com/bubbles/100/000000/3d-glasses.png\" style=\"height:50px;display:inline\"> EE 046746 - Technion - Computer Vision\n",
    "\n",
    "\n",
    "## Homework 0 - Python & Basic Image Processing\n",
    "---\n",
    "\n",
    "### <a style='color:red'> Due Date: 06.04.2021 </a>"
   ]
  },
  {
   "cell_type": "markdown",
   "metadata": {
    "id": "9nuC_YB9l4KL"
   },
   "source": [
    "### <img src=\"https://img.icons8.com/bubbles/50/000000/checklist.png\" style=\"height:50px;display:inline\"> Agenda\n",
    "---\n",
    "\n",
    "* Getting to Know Python\n",
    "    * NumPy\n",
    "    * Matplotlib\n",
    "    * Scikit-Learn\n",
    "* Image Processing 101\n",
    "\n",
    "#### Use as many cells as you need"
   ]
  },
  {
   "cell_type": "markdown",
   "metadata": {
    "id": "VuVI02Mrl4KS"
   },
   "source": [
    "### <img src=\"https://img.icons8.com/bubbles/50/000000/information.png\" style=\"height:50px;display:inline\"> Students Information\n",
    "---\n",
    "* Fill in\n",
    "\n",
    "|Name     |Campus Email| ID  |\n",
    "|---------|--------------------------------|----------|\n",
    "|Daniel Teitelman| daniel.tei@campus.technion.ac.il| 207734088|\n",
    "|Yair Nahum| nahum.yair@campus.technion.ac.il| 034462796|\n"
   ]
  },
  {
   "cell_type": "markdown",
   "metadata": {
    "id": "gJsUmQxMl4KU"
   },
   "source": [
    "### <img src=\"https://img.icons8.com/bubbles/50/000000/upload-to-cloud.png\" style=\"height:50px;display:inline\"> Submission Guidelines\n",
    "---\n",
    "* Submission only in **pairs**.\n",
    "* **No handwritten submissions.** \n",
    "* What you have to submit:\n",
    "    * You should submit this file only, with the name: `ee046746_hw0_id1_id2.ipynb`.\n",
    "    * No other file-types (`.py`, `.docx`...) will be accepted.\n",
    "* Submission on the course website (Moodle)."
   ]
  },
  {
   "cell_type": "markdown",
   "metadata": {
    "id": "swUM0fjhl4KU"
   },
   "source": [
    "### <img src=\"https://img.icons8.com/clouds/96/000000/keyboard.png\" style=\"height:50px;display:inline\"> Keyboard Shortcuts\n",
    "---\n",
    "* Run current cell: **Ctrl + Enter**\n",
    "* Run current cell and move to the next: **Shift + Enter**\n",
    "* Show lines in a code cell: **Esc + L**\n",
    "* View function documentation: **Shift + Tab** inside the parenthesis or `help(name_of_module)`\n",
    "* New cell below: **Esc + B**\n",
    "* Delete cell: **Esc + D, D** (two D's)"
   ]
  },
  {
   "cell_type": "code",
   "metadata": {
    "id": "eD1uFV9rl4KV"
   },
   "source": [
    "# imports for the tutorial\n",
    "import numpy as np\n",
    "import matplotlib.pyplot as plt\n",
    "import cv2\n",
    "%matplotlib inline"
   ],
   "execution_count": 23,
   "outputs": []
  },
  {
   "cell_type": "markdown",
   "metadata": {
    "id": "IEaVtp2ll4KW"
   },
   "source": [
    "### <img src=\"https://img.icons8.com/dusk/64/000000/python.png\" style=\"height:50px;display:inline\"> Introduction to Python\n",
    "---\n",
    "In this part, we are going to cover some of the basics in Python (it is easy, don'y worry...).\n",
    "\n",
    "All you have to do is run all the cells, and perform a really simple exercise at the end of each section."
   ]
  },
  {
   "cell_type": "markdown",
   "metadata": {
    "id": "Kw0qansxl4KW"
   },
   "source": [
    "## <img src=\"https://img.icons8.com/clouds/100/000000/calculator.png\" style=\"height:50px;display:inline\"> NumPy\n",
    "---\n",
    "\n",
    "NumPy is the fundamental package for scientific computing with Python. It contains among other things:\n",
    "\n",
    "* A powerful N-dimensional array object\n",
    "\n",
    "* Sophisticated (broadcasting) functions\n",
    "\n",
    "* Tools for integrating C/C++ and Fortran code\n",
    "\n",
    "* Useful linear algebra, Fourier transform, and random number capabilities\n",
    "\n",
    "Besides its obvious scientific uses, NumPy can also be used as an efficient multi-dimensional container of generic data. Arbitrary data-types can be defined. This allows NumPy to seamlessly and speedily integrate with a wide variety of databases\n",
    "\n"
   ]
  },
  {
   "cell_type": "markdown",
   "metadata": {
    "id": "DC9d826tl4KW"
   },
   "source": [
    "### Numpy Array\n",
    "#### 1D List -> NumPy Array"
   ]
  },
  {
   "cell_type": "code",
   "metadata": {
    "colab": {
     "base_uri": "https://localhost:8080/"
    },
    "id": "Y0IxAa1El4KX",
    "outputId": "5d002372-a545-467c-f2eb-127c1c1d7103"
   },
   "source": [
    "vec = [1, 2, 3] # list\n",
    "np_vec = np.array(vec) # array\n",
    "print(type(np_vec)) # check the type\n",
    "print(np_vec) # print the array"
   ],
   "execution_count": 24,
   "outputs": [
    {
     "name": "stdout",
     "output_type": "stream",
     "text": [
      "<class 'numpy.ndarray'>\n",
      "[1 2 3]\n"
     ]
    }
   ]
  },
  {
   "cell_type": "markdown",
   "metadata": {
    "id": "H_cBps1El4KX"
   },
   "source": [
    "#### 2D Matrix -> Numpy Array"
   ]
  },
  {
   "cell_type": "code",
   "metadata": {
    "colab": {
     "base_uri": "https://localhost:8080/"
    },
    "id": "D1mYjGS0l4KZ",
    "outputId": "563ba4ff-f748-445d-a868-8b5b05fd721b"
   },
   "source": [
    "mat = [[2, 6, 8], [3, 7, 0]] # 2d list\n",
    "np_mat = np.array(mat) # 2d ndarray\n",
    "print(np_mat) # print the matrix"
   ],
   "execution_count": 25,
   "outputs": [
    {
     "name": "stdout",
     "output_type": "stream",
     "text": [
      "[[2 6 8]\n",
      " [3 7 0]]\n"
     ]
    }
   ]
  },
  {
   "cell_type": "markdown",
   "metadata": {
    "id": "rw8y0tqVl4KZ"
   },
   "source": [
    "#### Zeros, Ones, Eye"
   ]
  },
  {
   "cell_type": "code",
   "metadata": {
    "colab": {
     "base_uri": "https://localhost:8080/"
    },
    "id": "7cP78msJl4Ka",
    "outputId": "896b243d-02f9-400d-a5b5-dba945e3e876"
   },
   "source": [
    "# zeros, just like matlab\n",
    "zero_arr = np.zeros((3,4))\n",
    "print(\"zeros:\")\n",
    "print(zero_arr)\n",
    "# ones, just like matlab\n",
    "print(\"ones:\")\n",
    "one_arr = np.ones((3,4))\n",
    "print(one_arr)\n",
    "# identity matrix, just like matlab\n",
    "print(\"eye:\")\n",
    "eye_arr = np.eye(3)\n",
    "print(eye_arr)"
   ],
   "execution_count": 26,
   "outputs": [
    {
     "name": "stdout",
     "output_type": "stream",
     "text": [
      "zeros:\n",
      "[[0. 0. 0. 0.]\n",
      " [0. 0. 0. 0.]\n",
      " [0. 0. 0. 0.]]\n",
      "ones:\n",
      "[[1. 1. 1. 1.]\n",
      " [1. 1. 1. 1.]\n",
      " [1. 1. 1. 1.]]\n",
      "eye:\n",
      "[[1. 0. 0.]\n",
      " [0. 1. 0.]\n",
      " [0. 0. 1.]]\n"
     ]
    }
   ]
  },
  {
   "cell_type": "markdown",
   "metadata": {
    "id": "sWe7z6cYl4Ka"
   },
   "source": [
    "### Random\n",
    "#### Create Random Arrays and Numbers with NumPy"
   ]
  },
  {
   "cell_type": "code",
   "metadata": {
    "colab": {
     "base_uri": "https://localhost:8080/"
    },
    "id": "LkGCh8Ahl4Kb",
    "outputId": "f0cbe643-5055-48b1-8669-bbd1e3e4c43d"
   },
   "source": [
    "np.random.randn(5) # 5x1 array with numbers from N(0,1)"
   ],
   "execution_count": 27,
   "outputs": [
    {
     "data": {
      "text/plain": "array([-0.07208584, -2.69222675,  0.76849868,  1.07878911,  0.57720445])"
     },
     "execution_count": 27,
     "metadata": {},
     "output_type": "execute_result"
    }
   ]
  },
  {
   "cell_type": "code",
   "metadata": {
    "scrolled": true,
    "colab": {
     "base_uri": "https://localhost:8080/"
    },
    "id": "YnjmYwwxl4Kb",
    "outputId": "4a1462e4-5694-4adb-9de6-2121697b960e"
   },
   "source": [
    "np.random.randn(3,4) # 3x4 matrix with numbers from N(0,1)"
   ],
   "execution_count": 28,
   "outputs": [
    {
     "data": {
      "text/plain": "array([[-1.94199122,  0.44466411,  1.70190557, -1.32657621],\n       [-0.75242785,  2.03415952,  1.77936467,  1.67867515],\n       [-0.28460052, -0.05910696,  0.33450442, -0.64972063]])"
     },
     "execution_count": 28,
     "metadata": {},
     "output_type": "execute_result"
    }
   ]
  },
  {
   "cell_type": "code",
   "metadata": {
    "colab": {
     "base_uri": "https://localhost:8080/"
    },
    "id": "WaMoy0ovl4Kb",
    "outputId": "ac61c444-b968-4e02-f2e5-f8f2df01d304"
   },
   "source": [
    "np.random.randint(5, 15) # random integer between start (5) and end (15)"
   ],
   "execution_count": 29,
   "outputs": [
    {
     "data": {
      "text/plain": "5"
     },
     "execution_count": 29,
     "metadata": {},
     "output_type": "execute_result"
    }
   ]
  },
  {
   "cell_type": "code",
   "metadata": {
    "scrolled": true,
    "colab": {
     "base_uri": "https://localhost:8080/"
    },
    "id": "fxAUm87Zl4Kb",
    "outputId": "63fd7aa7-7ebf-4861-9669-bf8e7b1e7203"
   },
   "source": [
    "np.random.randint(5, 150, 5) # multiple (5) random numbers between specified range"
   ],
   "execution_count": 30,
   "outputs": [
    {
     "data": {
      "text/plain": "array([ 51,  63,  59,  55, 142])"
     },
     "execution_count": 30,
     "metadata": {},
     "output_type": "execute_result"
    }
   ]
  },
  {
   "cell_type": "markdown",
   "metadata": {
    "id": "diNfnWeBl4Kb"
   },
   "source": [
    "### Series of Numbers\n",
    "#### arange, linspace"
   ]
  },
  {
   "cell_type": "code",
   "metadata": {
    "colab": {
     "base_uri": "https://localhost:8080/"
    },
    "id": "M_XYUO2Tl4Kc",
    "outputId": "b6dc92bb-4cfa-4ff1-bcf2-99760c51afb1"
   },
   "source": [
    "np.arange(3, 12) # 3, 4..., 11"
   ],
   "execution_count": 31,
   "outputs": [
    {
     "data": {
      "text/plain": "array([ 3,  4,  5,  6,  7,  8,  9, 10, 11])"
     },
     "execution_count": 31,
     "metadata": {},
     "output_type": "execute_result"
    }
   ]
  },
  {
   "cell_type": "code",
   "metadata": {
    "colab": {
     "base_uri": "https://localhost:8080/"
    },
    "id": "FSbp0Tocl4Kc",
    "outputId": "57886e88-f42c-4e61-ec08-5661cdd030fb"
   },
   "source": [
    "np.arange(3, 12, 2) # with a step of 2"
   ],
   "execution_count": 32,
   "outputs": [
    {
     "data": {
      "text/plain": "array([ 3,  5,  7,  9, 11])"
     },
     "execution_count": 32,
     "metadata": {},
     "output_type": "execute_result"
    }
   ]
  },
  {
   "cell_type": "code",
   "metadata": {
    "colab": {
     "base_uri": "https://localhost:8080/"
    },
    "id": "GxuZ-xs1l4Kc",
    "outputId": "67701e25-034b-41d7-9ef5-d47e00c90520"
   },
   "source": [
    "np.linspace(2, 5) # as in matlab default count is 50 -- third argument"
   ],
   "execution_count": 33,
   "outputs": [
    {
     "data": {
      "text/plain": "array([2.        , 2.06122449, 2.12244898, 2.18367347, 2.24489796,\n       2.30612245, 2.36734694, 2.42857143, 2.48979592, 2.55102041,\n       2.6122449 , 2.67346939, 2.73469388, 2.79591837, 2.85714286,\n       2.91836735, 2.97959184, 3.04081633, 3.10204082, 3.16326531,\n       3.2244898 , 3.28571429, 3.34693878, 3.40816327, 3.46938776,\n       3.53061224, 3.59183673, 3.65306122, 3.71428571, 3.7755102 ,\n       3.83673469, 3.89795918, 3.95918367, 4.02040816, 4.08163265,\n       4.14285714, 4.20408163, 4.26530612, 4.32653061, 4.3877551 ,\n       4.44897959, 4.51020408, 4.57142857, 4.63265306, 4.69387755,\n       4.75510204, 4.81632653, 4.87755102, 4.93877551, 5.        ])"
     },
     "execution_count": 33,
     "metadata": {},
     "output_type": "execute_result"
    }
   ]
  },
  {
   "cell_type": "code",
   "metadata": {
    "colab": {
     "base_uri": "https://localhost:8080/"
    },
    "id": "phM3Vzbzl4Kd",
    "outputId": "248c26c6-d6b2-4b08-ec48-42c1f1806742"
   },
   "source": [
    "np.linspace(2, 5, 10) # third argument specifies the count of numbers"
   ],
   "execution_count": 34,
   "outputs": [
    {
     "data": {
      "text/plain": "array([2.        , 2.33333333, 2.66666667, 3.        , 3.33333333,\n       3.66666667, 4.        , 4.33333333, 4.66666667, 5.        ])"
     },
     "execution_count": 34,
     "metadata": {},
     "output_type": "execute_result"
    }
   ]
  },
  {
   "cell_type": "markdown",
   "metadata": {
    "id": "VsbC9NGbl4Kd"
   },
   "source": [
    "### NumPy Operations\n",
    "\n",
    "Very similar to MATLAB"
   ]
  },
  {
   "cell_type": "code",
   "metadata": {
    "colab": {
     "base_uri": "https://localhost:8080/"
    },
    "id": "_YKlbGytl4Kd",
    "outputId": "5b07afff-964a-4409-c60e-5ff6d46f90d2"
   },
   "source": [
    "# dimensions of arrays\n",
    "print(np_vec.shape)\n",
    "print(np_mat.shape)"
   ],
   "execution_count": 35,
   "outputs": [
    {
     "name": "stdout",
     "output_type": "stream",
     "text": [
      "(3,)\n",
      "(2, 3)\n"
     ]
    }
   ]
  },
  {
   "cell_type": "code",
   "metadata": {
    "colab": {
     "base_uri": "https://localhost:8080/"
    },
    "id": "42D1sKFfl4Ke",
    "outputId": "5859d532-e058-4d48-883b-afcbd442ca4e"
   },
   "source": [
    "# maximum and minimum\n",
    "print(\"max: {}\".format(np_mat.max()))\n",
    "print(\"min: {}\".format(np_mat.min()))"
   ],
   "execution_count": 36,
   "outputs": [
    {
     "name": "stdout",
     "output_type": "stream",
     "text": [
      "max: 8\n",
      "min: 0\n"
     ]
    }
   ]
  },
  {
   "cell_type": "code",
   "metadata": {
    "colab": {
     "base_uri": "https://localhost:8080/"
    },
    "id": "DZAd6ukGl4Ke",
    "outputId": "2bbf57ae-cc83-4b2f-ba2f-0d8cf5130dca"
   },
   "source": [
    "# reshape\n",
    "print(np_mat)\n",
    "print(\"reshape:\")\n",
    "print(np_mat.reshape(3,2)) # change dimensions -- only if the total number of values remains the same"
   ],
   "execution_count": 37,
   "outputs": [
    {
     "name": "stdout",
     "output_type": "stream",
     "text": [
      "[[2 6 8]\n",
      " [3 7 0]]\n",
      "reshape:\n",
      "[[2 6]\n",
      " [8 3]\n",
      " [7 0]]\n"
     ]
    }
   ]
  },
  {
   "cell_type": "code",
   "metadata": {
    "scrolled": true,
    "colab": {
     "base_uri": "https://localhost:8080/",
     "height": 178
    },
    "id": "jIH8KdFvl4Ke",
    "outputId": "b0819921-95a6-46e6-df73-40705660248a"
   },
   "source": [
    "np_mat.reshape(3, 4) # error since total number of elements changes"
   ],
   "execution_count": 38,
   "outputs": [
    {
     "ename": "ValueError",
     "evalue": "cannot reshape array of size 6 into shape (3,4)",
     "output_type": "error",
     "traceback": [
      "\u001B[1;31m---------------------------------------------------------------------------\u001B[0m",
      "\u001B[1;31mValueError\u001B[0m                                Traceback (most recent call last)",
      "\u001B[1;32m<ipython-input-38-9caecae7d0e2>\u001B[0m in \u001B[0;36m<module>\u001B[1;34m()\u001B[0m\n\u001B[0;32m      1\u001B[0m \u001B[1;33m\u001B[0m\u001B[0m\n\u001B[1;32m----> 2\u001B[1;33m \u001B[0mnp_mat\u001B[0m\u001B[1;33m.\u001B[0m\u001B[0mreshape\u001B[0m\u001B[1;33m(\u001B[0m\u001B[1;36m3\u001B[0m\u001B[1;33m,\u001B[0m \u001B[1;36m4\u001B[0m\u001B[1;33m)\u001B[0m \u001B[1;31m# error since total number of elements changes\u001B[0m\u001B[1;33m\u001B[0m\u001B[1;33m\u001B[0m\u001B[0m\n\u001B[0m\u001B[0;32m      3\u001B[0m \u001B[1;33m\u001B[0m\u001B[0m\n",
      "\u001B[1;31mValueError\u001B[0m: cannot reshape array of size 6 into shape (3,4)"
     ]
    }
   ]
  },
  {
   "cell_type": "markdown",
   "metadata": {
    "id": "9SFyeK_Vl4Ke"
   },
   "source": [
    "### Numpy Array Operations\n",
    "#### Operations between arrays and scalars"
   ]
  },
  {
   "cell_type": "code",
   "metadata": {
    "colab": {
     "base_uri": "https://localhost:8080/"
    },
    "id": "VBLu8_9nl4Ke",
    "outputId": "d84b6734-1c2a-4a62-e8cf-6646fe2c6cde"
   },
   "source": [
    "a = np.array([0, 1, 2, 3, 4, 5])\n",
    "print(\"a = \")\n",
    "print(a)\n",
    "print(\"a + 7 = \")\n",
    "print(a + 7) # add 7 to each element\n",
    "print(\"a + 2 = \")\n",
    "print(a - 2)\n",
    "print(\"a / 2 = \")\n",
    "print(a / 2)\n",
    "print(\"a * 3 = \")\n",
    "print(a * 3)\n",
    "print(\"sin(a) = \")\n",
    "print(np.sin(a)) # sin() of each element, same dimensions\n",
    "print(\"sum(a) = \")\n",
    "print(np.sum(a)) # sum of all elements\n",
    "print(\"mean(a) = \")\n",
    "print(np.mean(a)) # mean of the array"
   ],
   "execution_count": null,
   "outputs": []
  },
  {
   "cell_type": "code",
   "metadata": {
    "colab": {
     "base_uri": "https://localhost:8080/"
    },
    "id": "rTgbs15il4Kf",
    "outputId": "9566e2f2-9351-43ae-a022-42ee7e82df64"
   },
   "source": [
    "a1 = np.array([[1, 3], [4, 6]])\n",
    "print(\"a1 = \")\n",
    "print(a1)\n",
    "b1 = np.array([[0, 2], [3, 1]])\n",
    "print(\"b1 = \")\n",
    "print(b1)"
   ],
   "execution_count": null,
   "outputs": []
  },
  {
   "cell_type": "code",
   "metadata": {
    "colab": {
     "base_uri": "https://localhost:8080/"
    },
    "id": "n2xvigAAl4Kg",
    "outputId": "56ad01bf-be2f-4814-8209-13e3d6d0bfe2"
   },
   "source": [
    "print(\"a1 + b1 = \")\n",
    "print(a1 + b1)\n",
    "print(\"a1 * b1 = \")\n",
    "print(a1 * b1) # element-wise multiplication\n",
    "print(\"matrix multiplication: np.dot(a1, b1) = \")\n",
    "print(np.dot(a1, b1)) # matrix multiplication\n",
    "print(\"np.dot() is the same as using @: a1 @ b1 = \")\n",
    "print(a1 @ b1) # matrix multiplication"
   ],
   "execution_count": null,
   "outputs": []
  },
  {
   "cell_type": "code",
   "metadata": {
    "scrolled": true,
    "colab": {
     "base_uri": "https://localhost:8080/"
    },
    "id": "y__MkLO3l4Kg",
    "outputId": "09c18384-d4c1-4d44-847e-3c652ffce024"
   },
   "source": [
    "# element-wise comparison\n",
    "print(a > 2) # compare each and every element"
   ],
   "execution_count": null,
   "outputs": []
  },
  {
   "cell_type": "markdown",
   "metadata": {
    "id": "Pg0S0AXml4Kh"
   },
   "source": [
    "### <img src=\"https://img.icons8.com/color/96/000000/deadlift.png\" style=\"height:50px;display:inline\"> Exercise 1\n",
    "\n",
    "Create 2 random matrices of the following shapes:\n",
    "* $a \\in \\mathcal{R}^{2 \\times 3} $\n",
    "* $b \\in \\mathcal{R}^{3 \\times 2} $\n",
    "\n",
    "And perform matrix multiplication."
   ]
  },
  {
   "cell_type": "code",
   "metadata": {
    "id": "qqWM78xol4Kh"
   },
   "source": [
    "\"\"\"\n",
    "Your Code Here\n",
    "\"\"\"\n",
    "a = np.random.randn(2,3)\n",
    "b = np.random.randn(3,2)\n",
    "a @ b"
   ],
   "execution_count": null,
   "outputs": []
  },
  {
   "cell_type": "markdown",
   "metadata": {
    "id": "bi_G7mRYl4Kh"
   },
   "source": [
    "### Indexing, Slicing, Broadcasting"
   ]
  },
  {
   "cell_type": "code",
   "metadata": {
    "scrolled": true,
    "colab": {
     "base_uri": "https://localhost:8080/"
    },
    "id": "5JiclZKbl4Kh",
    "outputId": "f18a8a65-0988-440f-9688-59c02475f400"
   },
   "source": [
    "d1 = np.arange(25)\n",
    "print(d1)"
   ],
   "execution_count": null,
   "outputs": []
  },
  {
   "cell_type": "code",
   "metadata": {
    "scrolled": true,
    "colab": {
     "base_uri": "https://localhost:8080/"
    },
    "id": "eldIgZTQl4Kh",
    "outputId": "58bf77bf-f2c6-4660-bbc7-a67414a1531f"
   },
   "source": [
    "d2 = np.arange(25).reshape(5,5)\n",
    "print(d2)"
   ],
   "execution_count": null,
   "outputs": []
  },
  {
   "cell_type": "code",
   "metadata": {
    "colab": {
     "base_uri": "https://localhost:8080/"
    },
    "id": "dpD0T0kel4Ki",
    "outputId": "16433f4f-7caf-43c7-cb4a-865f18088092"
   },
   "source": [
    "# slicing\n",
    "d1[4:12] # slicing -- d1[start : end+1]"
   ],
   "execution_count": null,
   "outputs": []
  },
  {
   "cell_type": "code",
   "metadata": {
    "scrolled": true,
    "colab": {
     "base_uri": "https://localhost:8080/"
    },
    "id": "JwXrta0wl4Ki",
    "outputId": "189ab28e-a8e7-4d22-c552-df2086c2ec00"
   },
   "source": [
    "print(\"d1[4: ] = \")\n",
    "print(d1[4: ])\n",
    "print(\"d1[:13] = \")\n",
    "print(d1[:13])"
   ],
   "execution_count": null,
   "outputs": []
  },
  {
   "cell_type": "code",
   "metadata": {
    "colab": {
     "base_uri": "https://localhost:8080/"
    },
    "id": "BCvB0iUFl4Ki",
    "outputId": "8a7b161a-0e3e-40d4-b0f6-7d2627515a3a"
   },
   "source": [
    "print(\"d2[0,0] = \")\n",
    "print(d2[0,0]) # d2[row, column]\n",
    "print(\"d2[2,] = \")\n",
    "print(d2[2,])\n",
    "print(\"d2[:, 3]\")\n",
    "print(d2[:, 3])"
   ],
   "execution_count": null,
   "outputs": []
  },
  {
   "cell_type": "code",
   "metadata": {
    "colab": {
     "base_uri": "https://localhost:8080/"
    },
    "id": "-tvOHsiYl4Kj",
    "outputId": "67f59a14-35ed-4a4e-bfba-f736b1688f1d"
   },
   "source": [
    "# broadcasting\n",
    "print(\"d1[0:5] = \")\n",
    "print(d1[0:5])\n",
    "print(\"d1[0:5] = -10\")\n",
    "d1[0:5] = -10 # broadcasting -- Change specific elements of the array\n",
    "print(d1[0:5])"
   ],
   "execution_count": null,
   "outputs": []
  },
  {
   "cell_type": "markdown",
   "metadata": {
    "id": "Ux2XG_s-l4Kj"
   },
   "source": [
    "## <img src=\"https://img.icons8.com/dusk/64/000000/area-chart.png\" style=\"height:50px;display:inline\"> Matplotlib\n",
    "---\n",
    "\n",
    "A 2D plotting library which produces publication quality figures.\n",
    " - Can be used in python scripts, the python and IPython shell, web application servers, and more …\n",
    " - Can be used to generate plots, histograms, power spectra, bar charts, errorcharts, scatterplots, etc.\n",
    " - For simple plotting, pyplot provides a MATLAB-like interface \n",
    " - For power users, a full control via OO interface or via a set of functions\n",
    "\n",
    "There are several Matplotlib add-on toolkits\n",
    " - Projection and mapping toolkits [basemap](http://matplotlib.org/basemap/) and [cartopy](http://scitools.org.uk/cartopy/).\n",
    " - Interactive plots in web browsers using [Bokeh](http://bokeh.pydata.org/en/latest/).\n",
    " - Higher level interface with updated visualizations [Seaborn](http://seaborn.pydata.org/index.html).\n",
    "\n",
    "Matplotlib is available at [www.matplotlib.org](www.matplotlib.org)"
   ]
  },
  {
   "cell_type": "markdown",
   "metadata": {
    "id": "JU4i6qIk2aqj"
   },
   "source": [
    "## Line Plots"
   ]
  },
  {
   "cell_type": "markdown",
   "metadata": {
    "id": "lLE2bOLV2aqk"
   },
   "source": [
    "### Plot Against Indices"
   ]
  },
  {
   "cell_type": "code",
   "metadata": {
    "colab": {
     "base_uri": "https://localhost:8080/",
     "height": 369
    },
    "id": "b37wjze5l4Kk",
    "outputId": "19357a68-0a75-46de-8994-1eaf652bd539"
   },
   "source": [
    "x = np.arange(50) * 2 * np.pi / 50\n",
    "y = np.sin(x)\n",
    "fig = plt.figure(figsize=(8, 5)) # create a figure, just like in matlab\n",
    "ax = fig.add_subplot(1, 1 ,1) # create a subplot of certain size\n",
    "ax.plot(y, label=\"y = sin(x)\")\n",
    "ax.set_xlabel('index')\n",
    "ax.set_ylabel(\"sin(x)\")\n",
    "ax.set_title(\"sin(x)\")\n",
    "ax.grid()\n",
    "ax.legend()"
   ],
   "execution_count": null,
   "outputs": []
  },
  {
   "cell_type": "markdown",
   "metadata": {
    "id": "jWP09PPq2aqs"
   },
   "source": [
    "### Multiple Lines"
   ]
  },
  {
   "cell_type": "code",
   "metadata": {
    "colab": {
     "base_uri": "https://localhost:8080/",
     "height": 369
    },
    "id": "coGcG5cZl4Kk",
    "outputId": "c804cecf-4046-468e-b2df-db9e7c467d40"
   },
   "source": [
    "x2 = np.arange(50) * 2 * np.pi / 25\n",
    "y2 = np.sin(x2)\n",
    "fig = plt.figure(figsize=(8, 5)) # create a figure, just like in matlab\n",
    "ax = fig.add_subplot(1, 1 ,1) # create a subplot of certain size\n",
    "ax.plot(y, label=\"y1 = sin(x1)\")\n",
    "ax.plot(y2, 'r-^', label=\"y2 = sin(x2)\")\n",
    "ax.set_xlabel('index')\n",
    "ax.set_ylabel(\"sin(x)\")\n",
    "ax.set_title(\"sin(x)\")\n",
    "ax.grid()\n",
    "ax.legend()"
   ],
   "execution_count": null,
   "outputs": []
  },
  {
   "cell_type": "markdown",
   "metadata": {
    "id": "HOfPan8W2arb"
   },
   "source": [
    "### Scatter Plots"
   ]
  },
  {
   "cell_type": "code",
   "metadata": {
    "colab": {
     "base_uri": "https://localhost:8080/",
     "height": 369
    },
    "id": "5X_qJFG_l4Km",
    "outputId": "ac3938f0-e0ee-478b-ef7a-fcb3dc493ec2"
   },
   "source": [
    "x = np.arange(50) * 2 * np.pi / 50\n",
    "y = np.sin(x)\n",
    "fig = plt.figure(figsize=(8, 5)) # create a figure, just like in matlab\n",
    "ax = fig.add_subplot(1, 1 ,1) # create a subplot of certain size\n",
    "ax.scatter(x, y, label=\"y = sin(x)\")\n",
    "ax.set_xlabel('index')\n",
    "ax.set_ylabel(\"sin(x)\")\n",
    "ax.set_title(\"scatter sin(x)\")\n",
    "ax.grid()\n",
    "ax.legend()"
   ],
   "execution_count": null,
   "outputs": []
  },
  {
   "cell_type": "markdown",
   "metadata": {
    "id": "TvWvh-rk2arj"
   },
   "source": [
    "### Bar Plots"
   ]
  },
  {
   "cell_type": "code",
   "metadata": {
    "scrolled": false,
    "colab": {
     "base_uri": "https://localhost:8080/",
     "height": 585
    },
    "id": "w1YU7ZqYl4Km",
    "outputId": "44f9b958-0226-4ff7-9ffa-105c67786bae"
   },
   "source": [
    "fig = plt.figure(figsize=(10, 8)) # create a figure, just like in matlab\n",
    "ax1 = fig.add_subplot(2, 1 ,1) # create a subplot of certain size\n",
    "ax1.bar(x, y)\n",
    "ax1.set_xlabel('x')\n",
    "ax1.set_ylabel(\"y\")\n",
    "ax1.set_title(\"bar plot\")\n",
    "ax1.grid()\n",
    "\n",
    "ax2 = fig.add_subplot(2, 1 ,2) # create a subplot of certain size\n",
    "ax2.barh(x, y, height=x[1]-x[0])\n",
    "ax2.set_xlabel('x')\n",
    "ax2.set_ylabel(\"y\")\n",
    "ax2.set_title(\"barh plot\")\n",
    "ax2.grid()\n",
    "\n",
    "plt.tight_layout()"
   ],
   "execution_count": null,
   "outputs": []
  },
  {
   "cell_type": "markdown",
   "metadata": {
    "id": "v5vzWO4h2arn"
   },
   "source": [
    "### Histogram"
   ]
  },
  {
   "cell_type": "code",
   "metadata": {
    "scrolled": false,
    "colab": {
     "base_uri": "https://localhost:8080/",
     "height": 336
    },
    "id": "HuM5k4Brl4Km",
    "outputId": "60b6acf0-8de6-427e-ac9d-4205d1aba707"
   },
   "source": [
    "fig = plt.figure(figsize=(8, 5)) # create a figure, just like in matlab\n",
    "ax = fig.add_subplot(1, 1 ,1) # create a subplot of certain size\n",
    "ax.hist(np.random.randn(1000), 30) # 30 is the number of bins\n",
    "ax.set_title(\"histogram\")\n",
    "ax.grid()"
   ],
   "execution_count": null,
   "outputs": []
  },
  {
   "cell_type": "markdown",
   "metadata": {
    "id": "KaW-kepll4Km"
   },
   "source": [
    "### <img src=\"https://img.icons8.com/color/96/000000/deadlift.png\" style=\"height:50px;display:inline\"> Exercise 2\n",
    "\n",
    "Create 1000 values using `linspace` and plot $sin(x) + cos(x)$ both as `plot` and `scatter` as 2 different subplots"
   ]
  },
  {
   "cell_type": "code",
   "metadata": {
    "colab": {
     "base_uri": "https://localhost:8080/",
     "height": 585
    },
    "id": "De_WYBT4l4Kn",
    "outputId": "38201f2c-c989-4d45-e09d-91a2886ac0ef"
   },
   "source": [
    "\"\"\"\n",
    "Your Code Here\n",
    "\"\"\"\n",
    "x = np.linspace(0,2 * np.pi,1000)\n",
    "y = np.sin(x) + np.cos(x)\n",
    "plt.figure(figsize = (8,8))\n",
    "plt.subplot(1,2,1)\n",
    "plt.plot(x,y)\n",
    "plt.xlabel('x')\n",
    "plt.ylabel('y')\n",
    "plt.title('Plot of sin(x) + cos(x)')\n",
    "plt.grid()\n",
    "plt.subplot(1,2,2)\n",
    "plt.scatter(x,y)\n",
    "plt.xlabel('x')\n",
    "plt.ylabel('y')\n",
    "plt.title('Scatter plot of sin(x) + cos(x)')\n",
    "plt.grid()\n",
    "\n",
    "plt.tight_layout()"
   ],
   "execution_count": null,
   "outputs": []
  },
  {
   "cell_type": "markdown",
   "metadata": {
    "id": "ijItR4Wsl4Kn"
   },
   "source": [
    "## <img src=\"https://img.icons8.com/cotton/64/000000/artificial-intelligence.png\" style=\"height:50px;display:inline\"> Scikit-Learn\n",
    "---\n",
    "Scikit-learn is an open source machine learning library for Python.  \n",
    " - **Simple and efficient** tools for data mining and data analysis\n",
    " - Good coverage of machine learning algorithms, processes, tools and techniques\n",
    "   - Classification, Regression, Clustering, Dimensionality Reduction, Model selection, Preprocessing\n",
    " - **High standards** \n",
    " - Well-suited for applications:\n",
    "   - Used for **large datasets**\n",
    "   - **Building blocks** for application-specific algorithms\n",
    " - Built on **NumPy, SciPy**\n",
    " - **Open source**, Commercially usable - BSD license, Community driven\n",
    "\n",
    "Data Representation in Scikit-learn:\n",
    " - Most algorithms expect a two-dimensional array, of shape (n_samples,n_features).\n",
    " - The arrays can be either NumPy arrays, or in some cases scipy.sparse matrices.\n",
    "   - The number of features must be fixed in advance.\n",
    "   \n",
    "Design principles\n",
    " - Minimize number of object interfaces\n",
    " - Build abstractions for recurrent use cases\n",
    " - Simplicity, Simplicity, Simplicity\n",
    " \n",
    "Code samples:\n",
    "> \n",
    "``from sklearn import svm\n",
    "clf = svm.SVC()\n",
    "clf.fit(X_train, y_train)\n",
    "y_pred = clf.predict(X_test)``\n",
    "\n",
    "Classification:\n",
    ">``y_pred = model.predict(X_test)``\n",
    "\n",
    "Filters, dimension reduction, latent variables:\n",
    ">``X_new = model.transform(X_test)``\n",
    "\n",
    "Incremental learning:\n",
    ">``model.partial_fir(X_train, y_train)``\n",
    "\n",
    "---\n",
    "\n",
    "The [scikit-learn website](http://scikit-learn.org/stable/) has great tutorials for using their library  \n",
    "---\n",
    "The [preprocessing](http://scikit-learn.org/stable/modules/preprocessing.html#preprocessing) page has information that is very relevant for the second exercise.\n",
    "\n",
    "A more interfactive tutorial introducing scikit-learn can be found [here](https://www.datacamp.com/community/tutorials/machine-learning-python#gs.Ae7Ua_Y)."
   ]
  },
  {
   "cell_type": "markdown",
   "metadata": {
    "id": "tPdEcrIHl4Ko"
   },
   "source": [
    "### Example - The Digits Dataset\n",
    "(Taken from https://scikit-learn.org/stable/tutorial/basic/tutorial.html)\n",
    "\n",
    "#### Loading the Data\n",
    "A dataset is a dictionary-like object that holds all the data and some metadata about the data. This data is stored in the `.data` member, which is a `n_samples, n_features` array. In the case of supervised problem, one or more response variables are stored in the `.target` member. More details on the different datasets can be found in the dedicated section."
   ]
  },
  {
   "cell_type": "code",
   "metadata": {
    "id": "NN7zh-Y_l4Ko"
   },
   "source": [
    "# import dataset\n",
    "from sklearn import datasets\n",
    "digits = datasets.load_digits()"
   ],
   "execution_count": null,
   "outputs": []
  },
  {
   "cell_type": "markdown",
   "metadata": {
    "id": "Bg2fugxol4Ko"
   },
   "source": [
    "For instance, in the case of the digits dataset, `digits.data` gives access to the features that can be used to classify the digits samples:"
   ]
  },
  {
   "cell_type": "code",
   "metadata": {
    "scrolled": true,
    "colab": {
     "base_uri": "https://localhost:8080/"
    },
    "id": "rZIzB0rnl4Ko",
    "outputId": "31512b63-2955-44cb-e139-4139de1f630e"
   },
   "source": [
    "print(digits.data)"
   ],
   "execution_count": null,
   "outputs": []
  },
  {
   "cell_type": "markdown",
   "metadata": {
    "id": "ezDS5TkSl4Ko"
   },
   "source": [
    "and `digits.target` gives the ground truth for the digit dataset, that is the number corresponding to each digit image that we are trying to learn:"
   ]
  },
  {
   "cell_type": "code",
   "metadata": {
    "scrolled": true,
    "colab": {
     "base_uri": "https://localhost:8080/"
    },
    "id": "N5NknlOol4Ko",
    "outputId": "7a08a7f2-e26e-45e8-bc76-34bd9d02f8cc"
   },
   "source": [
    "print(digits.target)"
   ],
   "execution_count": null,
   "outputs": []
  },
  {
   "cell_type": "markdown",
   "metadata": {
    "id": "JzxE41Tpl4Ko"
   },
   "source": [
    "Shape of the data arrays\n",
    "\n",
    "The data is always a 2D array, shape `(n_samples, n_features)`, although the original data may have had a different shape. In the case of the digits, each original sample is an image of shape `(8, 8)` and can be accessed using: `digits.images`"
   ]
  },
  {
   "cell_type": "code",
   "metadata": {
    "scrolled": true,
    "colab": {
     "base_uri": "https://localhost:8080/",
     "height": 355
    },
    "id": "vb_T5BYRl4Ko",
    "outputId": "1e7021e5-e7e0-4e6f-f33f-574863e0d869"
   },
   "source": [
    "fig = plt.figure(figsize=(8, 5)) # create a figure, just like in matlab\n",
    "ax = fig.add_subplot(1, 1 ,1) # create a subplot of certain size\n",
    "ax.imshow(digits.images[0], cmap='gray')\n",
    "ax.set_title(\"digits.image[0]\")"
   ],
   "execution_count": null,
   "outputs": []
  },
  {
   "cell_type": "markdown",
   "metadata": {
    "id": "E2qXlkRPl4Kp"
   },
   "source": [
    "#### Learning and Predicting\n",
    "\n",
    "In the case of the digits dataset, the task is to predict, given an image, which digit it represents. We are given samples of each of the 10 possible classes (the digits zero through nine) on which we fit an estimator to be able to predict the classes to which unseen samples belong.\n",
    "\n",
    "In scikit-learn, an estimator for classification is a Python object that implements the methods `fit(X, y)` and `predict(T)`."
   ]
  },
  {
   "cell_type": "code",
   "metadata": {
    "scrolled": true,
    "colab": {
     "base_uri": "https://localhost:8080/"
    },
    "id": "z0Pm_zOvl4Kp",
    "outputId": "b9d158c8-2ac4-4595-e522-7d860509173a"
   },
   "source": [
    "from sklearn.model_selection import train_test_split\n",
    "# split to train and test sets\n",
    "X_train, X_test, y_train, y_test = train_test_split(digits.data, digits.target, test_size=0.2)\n",
    "# fit a Naive Bayes Classifier\n",
    "from sklearn.naive_bayes import GaussianNB\n",
    "clf = GaussianNB()\n",
    "# train\n",
    "clf.fit(X_train, y_train)\n",
    "# predict\n",
    "y_pred = clf.predict(X_test)\n",
    "# cacluclate accuracy\n",
    "print(\"prediction accuracy: {:.3f}%\".format(np.mean(y_pred == y_test) * 100))"
   ],
   "execution_count": null,
   "outputs": []
  },
  {
   "cell_type": "markdown",
   "metadata": {
    "id": "DQELgrGEl4Kp"
   },
   "source": [
    "### <img src=\"https://img.icons8.com/color/96/000000/deadlift.png\" style=\"height:50px;display:inline\"> Exercise 3\n",
    "\n",
    "Build a Linear Support Vector Machine (SVM) classifier using `LinearSVC()` class from `sklearn` and check the accuracy."
   ]
  },
  {
   "cell_type": "code",
   "metadata": {
    "colab": {
     "base_uri": "https://localhost:8080/"
    },
    "id": "UYfAChV7l4Kq",
    "outputId": "7d6fa755-8507-4cd9-9e10-382aaa11736c"
   },
   "source": [
    "from sklearn.svm import LinearSVC\n",
    "\n",
    "# split to train and test sets\n",
    "X_train, X_test, y_train, y_test = train_test_split(digits.data, digits.target, test_size=0.2)\n",
    "\n",
    "\"\"\"\n",
    "Your Code Here\n",
    "\"\"\"\n",
    "\n",
    "clf = LinearSVC()\n",
    "# train\n",
    "clf.fit(X_train, y_train)\n",
    "# predict\n",
    "y_pred = clf.predict(X_test)\n",
    "# cacluclate accuracy\n",
    "print(\"prediction accuracy: {:.3f}%\".format(np.mean(y_pred == y_test) * 100))"
   ],
   "execution_count": null,
   "outputs": []
  },
  {
   "cell_type": "markdown",
   "metadata": {
    "id": "_p64sukPl4Kq"
   },
   "source": [
    "### <img src=\"https://img.icons8.com/office/80/000000/edit-image.png\" style=\"height:50px;display:inline\"> Image Processing 101\n",
    "---\n",
    "In this part, we are going to cover some of the basics in OpenCV\n",
    "\n",
    "Use the first tutorial if you are not yet comfortable with OpenCV."
   ]
  },
  {
   "cell_type": "markdown",
   "metadata": {
    "id": "bU5GDk0dl4Kq"
   },
   "source": [
    "### <img src=\"https://img.icons8.com/color/96/000000/deadlift.png\" style=\"height:50px;display:inline\"> Exercise 4\n",
    "\n",
    "Load the image `oy.jpg` and display it."
   ]
  },
  {
   "cell_type": "code",
   "metadata": {
    "colab": {
     "resources": {
      "http://localhost:8080/nbextensions/google.colab/files.js": {
       "data": "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",
       "ok": true,
       "headers": [
        [
         "content-type",
         "application/javascript"
        ]
       ],
       "status": 200,
       "status_text": "OK"
      }
     },
     "base_uri": "https://localhost:8080/",
     "height": 477
    },
    "id": "KJKDW1swl4Kq",
    "outputId": "ba6684d4-e16f-4a11-b739-8a0bd17d243d"
   },
   "source": [
    "\"\"\"\n",
    "Your Code Here\n",
    "\"\"\"\n",
    "import os \n",
    "oy = cv2.imread(\"oy.jpg\")\n",
    "fig = plt.figure(figsize=(8,8))\n",
    "ax = fig.add_subplot(1,1,1)\n",
    "ax.imshow(cv2.cvtColor(oy, cv2.COLOR_BGR2RGB))\n",
    "ax.set_title('oy')\n",
    "ax.set_axis_off()"
   ],
   "execution_count": null,
   "outputs": []
  },
  {
   "cell_type": "markdown",
   "metadata": {
    "id": "6f-6C_60l4Kq"
   },
   "source": [
    "### <img src=\"https://img.icons8.com/color/96/000000/deadlift.png\" style=\"height:50px;display:inline\"> Exercise 5\n",
    "\n",
    "Convert the image to gray and apply adpative thresholdind using `cv2.adaptiveThreshold` with the following values:\n",
    "\n",
    "* `adaptiveMethod=cv2.ADAPTIVE_THRESH_GAUSSIAN_C`\n",
    "* `thresholdType=cv2.THRESH_BINARY`\n",
    "* `blockSize=11`\n",
    "* `C=2`"
   ]
  },
  {
   "cell_type": "code",
   "metadata": {
    "colab": {
     "base_uri": "https://localhost:8080/",
     "height": 418
    },
    "id": "ofFfmRF5l4Kq",
    "outputId": "de67a82c-372f-4f27-e394-3509434de350"
   },
   "source": [
    "\"\"\"\n",
    "Your Code Here\n",
    "\"\"\"\n",
    "oy_gray = cv2.cvtColor(oy, cv2.COLOR_BGR2GRAY)\n",
    "oy_gray_threshold = cv2.adaptiveThreshold(oy_gray,maxValue=255,adaptiveMethod=cv2.ADAPTIVE_THRESH_GAUSSIAN_C,thresholdType=cv2.THRESH_BINARY,blockSize=11,C=2)\n",
    "oy_img_threshold = cv2.cvtColor(oy_gray_threshold, cv2.COLOR_GRAY2RGB)\n",
    "\n",
    "fig = plt.figure(figsize=(8,8))\n",
    "ax = fig.add_subplot(1,1,1)\n",
    "ax.imshow(oy_img_threshold)\n",
    "ax.set_title('oy adaptive threshold')\n",
    "ax.set_axis_off()"
   ],
   "execution_count": null,
   "outputs": []
  },
  {
   "cell_type": "markdown",
   "metadata": {
    "id": "3L0rtelll4Kq"
   },
   "source": [
    "### <img src=\"https://img.icons8.com/color/96/000000/deadlift.png\" style=\"height:50px;display:inline\"> Exercise 6\n",
    "\n",
    "We are now going to cover some classic object detection and morphology concepts.\n",
    "\n",
    "* Load the image `coins.jpg` and display it.\n",
    "* Convert it to gray and apply Gaussian Blur to smooth it (use a kernel size of 5). Display the resulting image.\n",
    "* Apply binary threshold using `cv2.threshold(, , , type=cv2.THRESH_BINARY)`. The recommended threshold is around 130, pick the one you are most satisfied with. Invert the colors such that the coins are white and the background is black, use `cv2.bitwise_not()`. Display the result.\n",
    "* We now want to clean the image to create a better mask. We will use the \"Closing\" morphological transformation. As you recall, the \"Closing\" operation is applying Dilation followed by Erosion. It is applied by `closing = cv2.morphologyEx(img, cv2.MORPH_CLOSE, kernel)` (<a href=\"https://opencv-python-tutroals.readthedocs.io/en/latest/py_tutorials/py_imgproc/py_morphological_ops/py_morphological_ops.html\">Read more</a>). For the `kernel`, use a matrix of ones with size 15x15. Display the result."
   ]
  },
  {
   "cell_type": "code",
   "metadata": {
    "colab": {
     "resources": {
      "http://localhost:8080/nbextensions/google.colab/files.js": {
       "data": "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",
       "ok": true,
       "headers": [
        [
         "content-type",
         "application/javascript"
        ]
       ],
       "status": 200,
       "status_text": "OK"
      }
     },
     "base_uri": "https://localhost:8080/",
     "height": 1000
    },
    "id": "b4SX_zvel4Kr",
    "outputId": "57cbe6a9-af70-4b90-ac98-c6d2a30bf8b0"
   },
   "source": [
    "\"\"\"\n",
    "Your Code Here\n",
    "\"\"\"\n",
    "# use as many cells as you need\n",
    "\n",
    "coins = cv2.imread(\"coins.jpg\")\n",
    "\n",
    "fig = plt.figure(figsize=(8,8))\n",
    "ax = fig.add_subplot(1,1,1)\n",
    "ax.imshow(cv2.cvtColor(coins, cv2.COLOR_BGR2RGB))\n",
    "ax.set_title('Coins')\n",
    "ax.set_axis_off()\n",
    "\n",
    "coins_gray = cv2.cvtColor(coins, cv2.COLOR_BGR2GRAY)\n",
    "coins_gray_gaussianblur = cv2.GaussianBlur(coins_gray, (5,5),cv2.BORDER_DEFAULT)\n",
    "coins_img_gaussianblur = cv2.cvtColor(coins_gray_gaussianblur, cv2.COLOR_GRAY2RGB)\n",
    "\n",
    "fig = plt.figure(figsize=(8,8))\n",
    "ax = fig.add_subplot(1,1,1)\n",
    "ax.imshow(coins_img_gaussianblur)\n",
    "ax.set_title('Coins gray gaussian blur')\n",
    "ax.set_axis_off()\n",
    "\n",
    "_, coins_gray_gaussianblur_binarythreshold = cv2.threshold(coins_gray_gaussianblur, thresh = 160,maxval = 255, type=cv2.THRESH_BINARY)\n",
    "coins_gray_gaussianblur_binarythreshold_flip = cv2.bitwise_not(coins_gray_gaussianblur_binarythreshold, mask = None)\n",
    "coins_img_gaussianblur_binarythreshold_flip = cv2.cvtColor(coins_gray_gaussianblur_binarythreshold_flip, cv2.COLOR_GRAY2RGB)\n",
    "fig = plt.figure(figsize=(8,8))\n",
    "ax = fig.add_subplot(1,1,1)\n",
    "ax.imshow(coins_img_gaussianblur_binarythreshold_flip)\n",
    "ax.set_title('Coins gray gaussian blur binary threshold flipped')\n",
    "ax.set_axis_off()\n",
    "\n",
    "kernel = np.ones(15)\n",
    "coins_closed = cv2.morphologyEx(coins_gray_gaussianblur_binarythreshold_flip, cv2.MORPH_CLOSE, kernel)\n",
    "coins_closed_img = cv2.cvtColor(coins_closed, cv2.COLOR_GRAY2RGB)\n",
    "fig = plt.figure(figsize=(8,8))\n",
    "ax = fig.add_subplot(1,1,1)\n",
    "ax.imshow(coins_closed_img)\n",
    "ax.set_title('Coins after closing operation')\n",
    "ax.set_axis_off()"
   ],
   "execution_count": null,
   "outputs": []
  },
  {
   "cell_type": "markdown",
   "metadata": {
    "id": "tfjf5wcjl4Ks"
   },
   "source": [
    "### <img src=\"https://img.icons8.com/color/96/000000/deadlift.png\" style=\"height:50px;display:inline\"> Exercise 7\n",
    "\n",
    "We are now going to detect the number of coins in the image using contours. Contours can be explained simply as a curve joining all the continuous points (along the boundary), having same color or intensity. The contours are a useful tool for shape analysis and object detection and recognition. For better accuracy, it is better to use binary images. So before finding contours, apply threshold or canny edge detection.\n",
    "\n",
    "* Using the binary image of the the coins from the previous exercise, use `cv2.findContours(..., mode=cv2.RETR_EXTERNAL, method=cv2.CHAIN_APPROX_SIMPLE)` to find the contours.\n",
    "* Filter contours that are too small to define a coin, use `cv2.contourArea()` to get the area of the contour. The minimum value should be in 50-70.\n",
    "* Make a copy of the original image with `np.copy(coins)`, draw the filtered contours on the copied image using `cv2.drawContours(.., ..., contourIdx=-1, color=(255, 0, 0))`. Finally, display the image with the contours (`cv2.drawContours` draws the contours but doesn't display them, use `imshow` to display the image).\n",
    "* Print the number of coins in the image (it is the number of detercted contours)."
   ]
  },
  {
   "cell_type": "code",
   "metadata": {
    "colab": {
     "base_uri": "https://localhost:8080/",
     "height": 462
    },
    "id": "RA4AID9Wl4Ks",
    "outputId": "0d6abaaf-f801-47b9-b7da-51eeb7c2f874"
   },
   "source": [
    "\"\"\"\n",
    "Your Code Here\n",
    "\"\"\"\n",
    "coins_closed[coins_closed < 10] = 0\n",
    "coins_closed[coins_closed >= 10] = 255\n",
    "\n",
    "contours,hierarchy = cv2.findContours(coins_closed, mode=cv2.RETR_EXTERNAL, method=cv2.CHAIN_APPROX_SIMPLE)\n",
    "cnt = contours[0]\n",
    "area = cv2.contourArea(cnt)\n",
    "print('Area: ' + str(area))\n",
    "print('Min area: ' + str(np.min(contours[1])))\n",
    "coins2 = np.copy(coins)\n",
    "drawingCon = cv2.drawContours(coins2, contours, contourIdx=-1, color=(255, 0, 0), thickness=3)\n",
    "\n",
    "fig = plt.figure(figsize=(8,8))\n",
    "ax = fig.add_subplot(1,1,1)\n",
    "ax.imshow(cv2.cvtColor(drawingCon, cv2.COLOR_BGR2RGB))\n",
    "ax.set_title('Detect Coins')\n",
    "ax.set_axis_off()\n",
    "print(f'Detected all {contours.shape[0]} coins')\n"
   ],
   "execution_count": null,
   "outputs": []
  },
  {
   "cell_type": "markdown",
   "metadata": {
    "id": "f_2x881hl4Ks"
   },
   "source": [
    "## <img src=\"https://img.icons8.com/dusk/64/000000/prize.png\" style=\"height:50px;display:inline\"> Credits\n",
    "* Icons from <a href=\"https://icons8.com/\">Icon8.com</a> - https://icons8.com\n",
    "* Datasets from <a href=\"https://www.kaggle.com/\">Kaggle</a> - https://www.kaggle.com/"
   ]
  }
 ]
}