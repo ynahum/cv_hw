{
  "nbformat": 4,
  "nbformat_minor": 0,
  "metadata": {
    "kernelspec": {
      "display_name": "Python 3",
      "language": "python",
      "name": "python3"
    },
    "language_info": {
      "codemirror_mode": {
        "name": "ipython",
        "version": 3
      },
      "file_extension": ".py",
      "mimetype": "text/x-python",
      "name": "python",
      "nbconvert_exporter": "python",
      "pygments_lexer": "ipython3",
      "version": "3.7.10"
    },
    "colab": {
      "name": "ee046746_hw2_207734088_034462796.ipynb",
      "provenance": [],
      "collapsed_sections": []
    },
    "accelerator": "GPU"
  },
  "cells": [
    {
      "cell_type": "markdown",
      "metadata": {
        "id": "ECZchwKhc27-"
      },
      "source": [
        "# <img src=\"https://img.icons8.com/bubbles/100/000000/3d-glasses.png\" style=\"height:50px;display:inline\"> EE 046746 - Technion - Computer Vision\n",
        "\n",
        "\n",
        "## Homework 2 - Deep Neural Networks, Classifiers & Features\n",
        "---\n",
        "\n",
        "### <a style='color:red'> Due Date: 20.05.2021 </a>"
      ]
    },
    {
      "cell_type": "markdown",
      "metadata": {
        "id": "6CwbIEG2c28E"
      },
      "source": [
        "### <img src=\"https://img.icons8.com/bubbles/50/000000/upload-to-cloud.png\" style=\"height:50px;display:inline\"> Submission Guidelines\n",
        "---\n",
        "#### READ THIS CAREFULLY\n",
        "* Submission only in **pairs**.\n",
        "* **No handwritten submissions**.\n",
        "* You can choose your working environment:\n",
        "    * You can work in a `Jupyter Notebook`, locally with <a href=\"https://www.anaconda.com/distribution/\">Anaconda</a> or online on <a href=\"https://colab.research.google.com/\">Google Colab</a>\n",
        "        * **Important**: Colab also supports running code on GPU, so if you don't have one, Colab is the way to go. To enable GPU on Colab, in the menu: `Runtime`$\\rightarrow$ `Change Runtime Type` $\\rightarrow$`GPU`.\n",
        "    * You can work in a Python IDE such as <a href=\"https://www.jetbrains.com/pycharm/\">PyCharm</a> or <a href=\"https://code.visualstudio.com/\">Visual Studio Code</a>.\n",
        "        * Both also allow opening/editing Jupyter Notebooks.\n",
        "* You should submit two **separated** files:\n",
        "    * A compressed `.zip` file, with the name: `ee046746_hw2_id1_id2.zip` which contains:\n",
        "        * A folder named `code` with all the code files inside (`.py` or `.ipynb` ONLY!), and all the files required for the code to run (your own images/videos).\n",
        "            * **The code should run both on CPU and GPU without manual modifications**, require no special preparation and run on every computer.\n",
        "    * A report file (visualizations, discussing the results and answering the questions) in a `.pdf` format, with the name `ee046746_hw2_id1_id2.pdf`.\n",
        "    * **DON'T** submit the SVHN dataset in your submission, we have a local copy of it.\n",
        "    * **DON'T** submit the trained networks, but make sure to document every result you get.\n",
        "        * Be precise, we expect on point answers.\n",
        "        * No other file-types (`.docx`, `.html`, ...) will be accepted.\n",
        "* Submission on the course website (Moodle)."
      ]
    },
    {
      "cell_type": "markdown",
      "metadata": {
        "id": "I2S9C_uOc28G"
      },
      "source": [
        "### <img src=\"https://img.icons8.com/dusk/64/000000/python.png\" style=\"height:50px;display:inline\"> Python Libraries\n",
        "---\n",
        "\n",
        "* `numpy`\n",
        "* `matplotlib`\n",
        "* `pytorch` (and `torchvision`)\n",
        "* `opencv` (or `scikit-image`)\n",
        "* `scikit-learn`\n",
        "* Anything else you need (`PIL`, `os`, `pandas`, `csv`, `json`,...)"
      ]
    },
    {
      "cell_type": "markdown",
      "metadata": {
        "id": "kHLf2j9Fc28H"
      },
      "source": [
        "### <img src=\"https://img.icons8.com/bubbles/50/000000/checklist.png\" style=\"height:50px;display:inline\"> Tasks\n",
        "---\n",
        "* In all tasks, you should document your process and results in a report file (which will be saved as `.pdf`). \n",
        "* You can reference your code in the report file, but no need for actual code in this file, the code is submitted in a seprate folder as explained above."
      ]
    },
    {
      "cell_type": "markdown",
      "metadata": {
        "id": "pSL5jL-dc28H"
      },
      "source": [
        "#### Part 1 - Design and Build a CNN Classifier\n",
        "---\n",
        "In this part you are going to design a deep convolutional neural network to classify house number digits from the **The Street View House Numbers (SVHN)** Dataset. \n",
        "\n",
        "SVHN is a real-world image dataset for developing machine learning and object recognition algorithms with minimal requirement on data preprocessing and formatting. It can be seen as similar in flavor to MNIST (e.g., the images are of small cropped digits), but incorporates an order of magnitude more labeled data (over 600,000 digit images) and comes from a significantly harder, unsolved, real world problem (recognizing digits and numbers in natural scene images). SVHN is obtained from house numbers in Google Street View images.\n",
        "\n",
        "* 10 classes, 1 for each digit. Digit '0' has label 0, '1' has label 1,...\n",
        "* 73257 digits for training, 26032 digits for testing, and 531131 additional, somewhat less difficult samples, to use as extra training data.\n",
        "\n",
        "<img src=\"http://ufldl.stanford.edu/housenumbers/32x32eg.png\" style=\"height:250px\">\n",
        "\n",
        "1. Load the SVHN dataset with PyTorch using `torchvision.datasets.SVHN(root, split='train', transform=None, target_transform=None, download=True)` (<a href=\"https://pytorch.org/docs/stable/torchvision/datasets.html#svhn\"> read more here</a>). Display 5 images from the train set.\n",
        "2. Use the CNN from tutorials 3-4 (`CifarCnn()`) and train it on the SVHN dataset (**keep the architecture the same**) for the same number of **epochs** with the same learning rate (try to keep the batch size the same, but if you get memory errors, you can reduce it). What is the accuracy on the test set? What classes are most confusing for this model?\n",
        "    * Your test accuracy from this section will be your **baseline** accuracy for sections 3-4.\n",
        "3. Design a Convolutional Neural Network (CNN) to classify digits from the images. You can modify the network from section 2, but **you must get a better result than your baseline accuracy from section 2**.\n",
        "    * Describe the chosen architecture, how many layers? What activations did you choose? What are the filter sizes? Did you use fully-connected layers (if you did, explain their sizes)?\n",
        "    * What is the input dimension? What is the output dimension?\n",
        "    * Calculate the number of parameters (weights) in the network.\n",
        "4. Train the classifier (preferably on a **GPU - use Colab for this part** if you don't have a GPU).\n",
        "    * Describe the the hyper-parameters of the model (batch size, epochs, learning rate....). How did you tune your model? Did you use a validation set to tune the model? (<a href=\"https://gist.github.com/MattKleinsmith/5226a94bad5dd12ed0b871aed98cb123\">Separating to train/validation/test in PyTorch</a>)\n",
        "    * What is the final accuracy on the test set?"
      ]
    },
    {
      "cell_type": "code",
      "metadata": {
        "colab": {
          "base_uri": "https://localhost:8080/"
        },
        "id": "TccW0nRbDbZu",
        "outputId": "855d6bd8-25ec-4cce-c0f7-331530d36d32"
      },
      "source": [
        "# Install package\n",
        "!pip install torchsummary"
      ],
      "execution_count": 1,
      "outputs": [
        {
          "output_type": "stream",
          "text": [
            "Requirement already satisfied: torchsummary in /usr/local/lib/python3.7/dist-packages (1.5.1)\n"
          ],
          "name": "stdout"
        }
      ]
    },
    {
      "cell_type": "code",
      "metadata": {
        "id": "dDV4nYrVeNuA"
      },
      "source": [
        "# %% Imports\n",
        "import torch\n",
        "import torch.nn as nn\n",
        "from torchvision import transforms\n",
        "from torch.utils.data import DataLoader\n",
        "from torch.utils.data.sampler import SubsetRandomSampler\n",
        "from torchvision.datasets import SVHN\n",
        "from torchsummary import summary\n",
        "import matplotlib.pyplot as plt\n",
        "import numpy as np\n",
        "import time\n",
        "import os"
      ],
      "execution_count": 2,
      "outputs": []
    },
    {
      "cell_type": "code",
      "metadata": {
        "colab": {
          "base_uri": "https://localhost:8080/"
        },
        "id": "R1OclWnXeDPd",
        "outputId": "4850cdcc-a1b3-48dd-e9fa-9686f0ac2280"
      },
      "source": [
        "# %% Load data\n",
        "\n",
        "train_dataset = SVHN(root = './datasets',split='train',transform=None, target_transform=None, download=True)\n",
        "test_dataset = SVHN(root = './datasets',split='test',transform=None, target_transform=None, download=True)"
      ],
      "execution_count": 3,
      "outputs": [
        {
          "output_type": "stream",
          "text": [
            "Using downloaded and verified file: ./datasets/train_32x32.mat\n",
            "Using downloaded and verified file: ./datasets/test_32x32.mat\n"
          ],
          "name": "stdout"
        }
      ]
    },
    {
      "cell_type": "code",
      "metadata": {
        "colab": {
          "base_uri": "https://localhost:8080/",
          "height": 200
        },
        "id": "SoxfraJijGK_",
        "outputId": "536aae5a-52d3-43bd-f3b0-1746faf1ad5e"
      },
      "source": [
        "# %% Display 5 images from the train set.\n",
        "\n",
        "fig = plt.figure(figsize=(13,9))\n",
        "for i in range(5):\n",
        "    ax=fig.add_subplot(1,5,i+1)\n",
        "    ax.imshow(train_dataset[i][0],interpolation='none')\n",
        "    ax.set_title(\"Ground Truth: {}\".format(train_dataset[i][1]))\n",
        "    ax.set_axis_off()\n",
        "    plt.tight_layout()"
      ],
      "execution_count": 4,
      "outputs": [
        {
          "output_type": "display_data",
          "data": {
            "image/png": "[encoded data removed]",
            "text/plain": [
              "<Figure size 936x648 with 5 Axes>"
            ]
          },
          "metadata": {
            "tags": [],
            "needs_background": "light"
          }
        }
      ]
    },
    {
      "cell_type": "code",
      "metadata": {
        "colab": {
          "base_uri": "https://localhost:8080/"
        },
        "id": "UvB6XcGii-KJ",
        "outputId": "736b9258-0e93-49d0-cecc-e83d30c41a50"
      },
      "source": [
        "# %% Augmentations & Preprocessing, using the same augmenations as in the tutorial\n",
        "\n",
        "transform_train=transforms.Compose([\n",
        "        transforms.RandomCrop(32,padding=4),\n",
        "        transforms.RandomHorizontalFlip(),\n",
        "        transforms.ToTensor(),\n",
        "        transforms.Normalize((0.4914,0.4822,0.4465),(0.2023,0.1994,0.2010)),])\n",
        "\n",
        "transform_test=transforms.Compose([\n",
        "        transforms.ToTensor(),\n",
        "        transforms.Normalize((0.4914,0.4822,0.4465),(0.2023,0.1994,0.2010)),])\n",
        "\n",
        "classes = ('1','2','3','4','5','6','7','8','9','0')\n",
        "\n",
        "# loading now with transforms applied\n",
        "train_dataset = SVHN(root = './datasets',split='train',transform=transform_train, target_transform=None, download=True)\n",
        "test_dataset = SVHN(root = './datasets',split='test',transform=transform_test, target_transform=None, download=True)\n",
        "\n",
        "BATCH_SIZE = 128\n",
        "learning_rate = 1e-4\n",
        "epochs = 20\n",
        "\n",
        "train_loader = DataLoader(dataset = train_dataset,batch_size = BATCH_SIZE,shuffle = True, num_workers=2)\n",
        "test_loader = DataLoader(dataset = test_dataset,batch_size = BATCH_SIZE,shuffle = False,num_workers=2)\n"
      ],
      "execution_count": 5,
      "outputs": [
        {
          "output_type": "stream",
          "text": [
            "Using downloaded and verified file: ./datasets/train_32x32.mat\n",
            "Using downloaded and verified file: ./datasets/test_32x32.mat\n"
          ],
          "name": "stdout"
        }
      ]
    },
    {
      "cell_type": "code",
      "metadata": {
        "id": "NZgR9_S-08G3"
      },
      "source": [
        "# %% Cifar CNN\n",
        "\n",
        "class CifarCNN(nn.Module):\n",
        "    \"\"\" CNN for the SVHN dataset copied from tutorial 3 -4  as requested\"\"\"\n",
        "    def __init__(self):\n",
        "        super(CifarCNN, self).__init__()\n",
        "\n",
        "        self.conv_layer = nn.Sequential(\n",
        "            # Conv Layer block 1\n",
        "            nn.Conv2d(in_channels=3,out_channels=32,kernel_size=3,padding=1),\n",
        "            nn.BatchNorm2d(32),\n",
        "            nn.ReLU(inplace=True),\n",
        "            nn.Conv2d(in_channels=32,out_channels=64,kernel_size=3,padding=1),\n",
        "            nn.ReLU(inplace=True),\n",
        "            nn.MaxPool2d(kernel_size=2,stride=2),\n",
        "            # Conv Layer block 2\n",
        "            nn.Conv2d(in_channels=64,out_channels=128,kernel_size=3,padding=1),\n",
        "            nn.BatchNorm2d(128),\n",
        "            nn.ReLU(inplace=True),\n",
        "            nn.Conv2d(in_channels=128,out_channels=128,kernel_size=3,padding=1),\n",
        "            nn.ReLU(inplace=True),\n",
        "            nn.MaxPool2d(kernel_size=2,stride=2),\n",
        "            nn.Dropout2d(p=0.05),\n",
        "\n",
        "            # Conv Layer block 3\n",
        "            nn.Conv2d(in_channels=128,out_channels=256,kernel_size=3,padding=1),\n",
        "            nn.BatchNorm2d(256),\n",
        "            nn.ReLU(inplace=True),\n",
        "            nn.Conv2d(in_channels=256,out_channels=256,kernel_size=3,padding=1),\n",
        "            nn.ReLU(inplace=True),nn.MaxPool2d(kernel_size=2,stride=2),\n",
        "\n",
        "        )\n",
        "\n",
        "        self.fc_layer=nn.Sequential(\n",
        "            nn.Dropout(p=0.1),\n",
        "            nn.Linear(4096,1024),\n",
        "            nn.ReLU(inplace=True),\n",
        "            nn.Linear(1024,512),\n",
        "            nn.ReLU(inplace=True),\n",
        "            nn.Dropout(p=0.1),\n",
        "            nn.Linear(512,10))\n",
        "        \n",
        "    def forward(self,x):\n",
        "        \"\"\"Perform forward.\"\"\"\n",
        "        # conv layers\n",
        "        x=self.conv_layer(x)\n",
        "        # flatten\n",
        "        x=x.view(x.size(0),-1)\n",
        "        # fc layer\n",
        "        x=self.fc_layer(x)\n",
        "        return x"
      ],
      "execution_count": 6,
      "outputs": []
    },
    {
      "cell_type": "code",
      "metadata": {
        "id": "eVCnv6GV8DLj"
      },
      "source": [
        "# %% Optimizer setup \n",
        "\n",
        "# device - cpu or gpu?\n",
        "device=torch.device(\"cuda:0\" if torch.cuda.is_available() else \"cpu\")\n",
        "\n",
        "# loss criterion\n",
        "criterion=nn.CrossEntropyLoss()\n",
        "\n",
        "# build our model and send it to the device\n",
        "model=CifarCNN().to(device)# no need for parameters as we alredy defined them in the class\n",
        "\n",
        "# optimizer - Adam\n",
        "optimizer=torch.optim.Adam(model.parameters(),lr=learning_rate)"
      ],
      "execution_count": 7,
      "outputs": []
    },
    {
      "cell_type": "code",
      "metadata": {
        "colab": {
          "base_uri": "https://localhost:8080/"
        },
        "id": "tRN2bK1EAJu3",
        "outputId": "93d8f386-2d55-4f3e-d0f6-9a10c5c1c7a4"
      },
      "source": [
        "print('Model summary:')\n",
        "summary(model, input_size=(3, 32, 32))"
      ],
      "execution_count": 8,
      "outputs": [
        {
          "output_type": "stream",
          "text": [
            "Model summary:\n",
            "----------------------------------------------------------------\n",
            "        Layer (type)               Output Shape         Param #\n",
            "================================================================\n",
            "            Conv2d-1           [-1, 32, 32, 32]             896\n",
            "       BatchNorm2d-2           [-1, 32, 32, 32]              64\n",
            "              ReLU-3           [-1, 32, 32, 32]               0\n",
            "            Conv2d-4           [-1, 64, 32, 32]          18,496\n",
            "              ReLU-5           [-1, 64, 32, 32]               0\n",
            "         MaxPool2d-6           [-1, 64, 16, 16]               0\n",
            "            Conv2d-7          [-1, 128, 16, 16]          73,856\n",
            "       BatchNorm2d-8          [-1, 128, 16, 16]             256\n",
            "              ReLU-9          [-1, 128, 16, 16]               0\n",
            "           Conv2d-10          [-1, 128, 16, 16]         147,584\n",
            "             ReLU-11          [-1, 128, 16, 16]               0\n",
            "        MaxPool2d-12            [-1, 128, 8, 8]               0\n",
            "        Dropout2d-13            [-1, 128, 8, 8]               0\n",
            "           Conv2d-14            [-1, 256, 8, 8]         295,168\n",
            "      BatchNorm2d-15            [-1, 256, 8, 8]             512\n",
            "             ReLU-16            [-1, 256, 8, 8]               0\n",
            "           Conv2d-17            [-1, 256, 8, 8]         590,080\n",
            "             ReLU-18            [-1, 256, 8, 8]               0\n",
            "        MaxPool2d-19            [-1, 256, 4, 4]               0\n",
            "          Dropout-20                 [-1, 4096]               0\n",
            "           Linear-21                 [-1, 1024]       4,195,328\n",
            "             ReLU-22                 [-1, 1024]               0\n",
            "           Linear-23                  [-1, 512]         524,800\n",
            "             ReLU-24                  [-1, 512]               0\n",
            "          Dropout-25                  [-1, 512]               0\n",
            "           Linear-26                   [-1, 10]           5,130\n",
            "================================================================\n",
            "Total params: 5,852,170\n",
            "Trainable params: 5,852,170\n",
            "Non-trainable params: 0\n",
            "----------------------------------------------------------------\n",
            "Input size (MB): 0.01\n",
            "Forward/backward pass size (MB): 3.96\n",
            "Params size (MB): 22.32\n",
            "Estimated Total Size (MB): 26.30\n",
            "----------------------------------------------------------------\n"
          ],
          "name": "stdout"
        }
      ]
    },
    {
      "cell_type": "code",
      "metadata": {
        "id": "hovM_mHP84sG"
      },
      "source": [
        "# function to calcualte accuracy of the model\n",
        "def calculate_accuracy(model,dataloader,device):\n",
        "    model.eval()# put in evaluation mode\n",
        "    total_correct=0\n",
        "    total_images=0\n",
        "    confusion_matrix=np.zeros([10,10],int)\n",
        "    with torch.no_grad():\n",
        "        for data in dataloader:\n",
        "            images,labels=data\n",
        "            images=images.to(device)\n",
        "            labels=labels.to(device)\n",
        "            outputs=model(images)\n",
        "            _,predicted=torch.max(outputs.data,1)\n",
        "            total_images+=labels.size(0)\n",
        "            total_correct+=(predicted==labels).sum().item()\n",
        "            for i,l in enumerate(labels):\n",
        "                confusion_matrix[l.item(),predicted[i].item()]+=1\n",
        "    model_accuracy=total_correct/total_images*100\n",
        "    return model_accuracy,confusion_matrix\n",
        "            "
      ],
      "execution_count": 9,
      "outputs": []
    },
    {
      "cell_type": "code",
      "metadata": {
        "id": "LCC_zQmM9tNT"
      },
      "source": [
        "# training loop\n",
        "def TrainModel(model,epochs,network_type=0):\n",
        "    for epoch in range(1,epochs+1):\n",
        "        model.train()# put in training mode\n",
        "        running_loss=0.0\n",
        "        epoch_time=time.time()\n",
        "        for i,data in enumerate(train_loader,0):\n",
        "            # get the inputs\n",
        "            inputs,labels=data# send them to device\n",
        "            inputs=inputs.to(device)\n",
        "            labels=labels.to(device)# forward + backward + optimize\n",
        "            outputs=model(inputs)# forward pass\n",
        "            loss=criterion(outputs,labels)# calculate the loss\n",
        "            # always the same 3 steps\n",
        "            optimizer.zero_grad()# zero the parameter gradients\n",
        "            loss.backward()# backpropagation\n",
        "            optimizer.step()# update parameters\n",
        "            # print statistics\n",
        "            running_loss+=loss.data.item()\n",
        "        # Normalizing the loss by the total number of train batches\n",
        "        running_loss/=len(train_loader)# Calculate training/test set accuracy of the existing model\n",
        "        train_accuracy,_=calculate_accuracy(model,train_loader,device)\n",
        "\n",
        "        \n",
        "        if network_type == 2:\n",
        "            test_accuracy,_=calculate_accuracy(model,valid_loader,device)\n",
        "            log=\"Epoch: {} | Loss: {:.4f} | Training accuracy: {:.3f}% | Validation accuracy: {:.3f}% | \".format(epoch,running_loss,train_accuracy,test_accuracy)\n",
        "        else:\n",
        "            test_accuracy,_=calculate_accuracy(model,test_loader,device)\n",
        "            log=\"Epoch: {} | Loss: {:.4f} | Training accuracy: {:.3f}% | Test accuracy: {:.3f}% | \".format(epoch,running_loss,train_accuracy,test_accuracy)\n",
        "        epoch_time=time.time()-epoch_time\n",
        "        log+=\"Epoch Time: {:.2f} secs\".format(epoch_time)\n",
        "        print(log)\n",
        "        # save model\n",
        "        if epoch%20==0:\n",
        "            print('==> Saving model ...')\n",
        "            state={'net':model.state_dict(),'epoch':epoch,}\n",
        "            if not os.path.isdir('checkpoints'):\n",
        "                os.mkdir('checkpoints')\n",
        "            if network_type == 0:\n",
        "                torch.save(state,'./checkpoints/cifar_cnn_ckpt.pth')\n",
        "            elif network_type == 1:\n",
        "                torch.save(state,'./checkpoints/our_cnn_ckpt.pth')\n",
        "            elif network_type == 2:\n",
        "                torch.save(state,'./checkpoints/our_cnn_hyperparameter_tuning_ckpt.pth')\n",
        "    print('==> Finished Training ...')\n",
        "\n",
        "\n"
      ],
      "execution_count": 10,
      "outputs": []
    },
    {
      "cell_type": "code",
      "metadata": {
        "colab": {
          "base_uri": "https://localhost:8080/"
        },
        "id": "lcFLSY0OyvEK",
        "outputId": "2936ce53-c1cb-4a76-bfe3-82c14892bb46"
      },
      "source": [
        "# %% Train model\n",
        "TrainModel(model,epochs,network_type=0)"
      ],
      "execution_count": 11,
      "outputs": [
        {
          "output_type": "stream",
          "text": [
            "Epoch: 1 | Loss: 1.2998 | Training accuracy: 77.240% | Test accuracy: 78.596% | Epoch Time: 51.15 secs\n",
            "Epoch: 2 | Loss: 0.5440 | Training accuracy: 86.201% | Test accuracy: 86.486% | Epoch Time: 50.53 secs\n",
            "Epoch: 3 | Loss: 0.4093 | Training accuracy: 88.910% | Test accuracy: 89.521% | Epoch Time: 51.05 secs\n",
            "Epoch: 4 | Loss: 0.3520 | Training accuracy: 90.931% | Test accuracy: 91.061% | Epoch Time: 51.16 secs\n",
            "Epoch: 5 | Loss: 0.3143 | Training accuracy: 91.280% | Test accuracy: 91.495% | Epoch Time: 51.20 secs\n",
            "Epoch: 6 | Loss: 0.2891 | Training accuracy: 92.246% | Test accuracy: 92.467% | Epoch Time: 50.71 secs\n",
            "Epoch: 7 | Loss: 0.2754 | Training accuracy: 92.537% | Test accuracy: 92.897% | Epoch Time: 51.07 secs\n",
            "Epoch: 8 | Loss: 0.2566 | Training accuracy: 93.349% | Test accuracy: 93.293% | Epoch Time: 51.02 secs\n",
            "Epoch: 9 | Loss: 0.2439 | Training accuracy: 93.594% | Test accuracy: 93.216% | Epoch Time: 50.94 secs\n",
            "Epoch: 10 | Loss: 0.2321 | Training accuracy: 93.939% | Test accuracy: 93.347% | Epoch Time: 51.42 secs\n",
            "Epoch: 11 | Loss: 0.2233 | Training accuracy: 94.305% | Test accuracy: 93.938% | Epoch Time: 51.87 secs\n",
            "Epoch: 12 | Loss: 0.2141 | Training accuracy: 94.424% | Test accuracy: 94.034% | Epoch Time: 51.41 secs\n",
            "Epoch: 13 | Loss: 0.2064 | Training accuracy: 94.701% | Test accuracy: 94.115% | Epoch Time: 51.28 secs\n",
            "Epoch: 14 | Loss: 0.2002 | Training accuracy: 95.125% | Test accuracy: 94.468% | Epoch Time: 52.10 secs\n",
            "Epoch: 15 | Loss: 0.1915 | Training accuracy: 95.000% | Test accuracy: 94.169% | Epoch Time: 52.26 secs\n",
            "Epoch: 16 | Loss: 0.1862 | Training accuracy: 95.404% | Test accuracy: 94.445% | Epoch Time: 52.93 secs\n",
            "Epoch: 17 | Loss: 0.1797 | Training accuracy: 95.629% | Test accuracy: 94.572% | Epoch Time: 52.86 secs\n",
            "Epoch: 18 | Loss: 0.1753 | Training accuracy: 95.808% | Test accuracy: 94.649% | Epoch Time: 52.60 secs\n",
            "Epoch: 19 | Loss: 0.1688 | Training accuracy: 95.697% | Test accuracy: 94.146% | Epoch Time: 52.81 secs\n",
            "Epoch: 20 | Loss: 0.1615 | Training accuracy: 95.962% | Test accuracy: 94.069% | Epoch Time: 52.05 secs\n",
            "==> Saving model ...\n",
            "==> Finished Training ...\n"
          ],
          "name": "stdout"
        }
      ]
    },
    {
      "cell_type": "code",
      "metadata": {
        "colab": {
          "base_uri": "https://localhost:8080/",
          "height": 407
        },
        "id": "FZonjb6l_BUa",
        "outputId": "9cee4118-6723-41be-e3fc-27340026c655"
      },
      "source": [
        "# load model, calculate accuracy and confusion matrix\n",
        "model=CifarCNN().to(device)\n",
        "state=torch.load('./checkpoints/cifar_cnn_ckpt.pth',map_location=device)\n",
        "model.load_state_dict(state['net'])\n",
        "test_accuracy,confusion_matrix=calculate_accuracy(model,test_loader,device)\n",
        "print(\"test accuracy: {:.3f}%\".format(test_accuracy))\n",
        "# plot confusion matrix\n",
        "fig,ax=plt.subplots(1,1,figsize=(8,6))\n",
        "ax.matshow(confusion_matrix,aspect='auto',vmin=0,vmax=1000,cmap=plt.get_cmap('Blues'))\n",
        "plt.ylabel('Actual Category')\n",
        "plt.yticks(range(10),classes)\n",
        "plt.xlabel('Predicted Category')\n",
        "plt.xticks(range(10),classes)\n",
        "plt.show()"
      ],
      "execution_count": 12,
      "outputs": [
        {
          "output_type": "stream",
          "text": [
            "test accuracy: 94.069%\n"
          ],
          "name": "stdout"
        },
        {
          "output_type": "display_data",
          "data": {
            "image/png": "[encoded data removed]",
            "text/plain": [
              "<Figure size 576x432 with 1 Axes>"
            ]
          },
          "metadata": {
            "tags": [],
            "needs_background": "light"
          }
        }
      ]
    },
    {
      "cell_type": "code",
      "metadata": {
        "id": "rhWhn5joNGeb"
      },
      "source": [
        "# %% Designing our network\n",
        "\n",
        "class OurModel(nn.Module):\n",
        "    \"\"\" CNN for the SVHN dataset copied from tutorial 3 -4  as requested\"\"\"\n",
        "    def __init__(self):\n",
        "        super(OurModel, self).__init__()\n",
        "\n",
        "        self.conv_layer = nn.Sequential(\n",
        "            # Conv Layer block 1\n",
        "            nn.Conv2d(in_channels=3,out_channels=64,kernel_size=3,padding=1),\n",
        "            nn.BatchNorm2d(64),\n",
        "            nn.ReLU(inplace=True),\n",
        "            nn.Conv2d(in_channels=64,out_channels=128,kernel_size=3,padding=1),\n",
        "            nn.ReLU(inplace=True),\n",
        "            nn.MaxPool2d(kernel_size=2,stride=2),\n",
        "            # Conv Layer block 2\n",
        "            nn.Conv2d(in_channels=128,out_channels=256,kernel_size=3,padding=1),\n",
        "            nn.BatchNorm2d(256),\n",
        "            nn.ReLU(inplace=True),\n",
        "            nn.Conv2d(in_channels=256,out_channels=256,kernel_size=3,padding=1),\n",
        "            nn.ReLU(inplace=True),\n",
        "            nn.MaxPool2d(kernel_size=2,stride=2),\n",
        "            nn.Dropout2d(p=0.05),\n",
        "\n",
        "            # Conv Layer block 3\n",
        "            nn.Conv2d(in_channels=256,out_channels=512,kernel_size=3,padding=1),\n",
        "            nn.BatchNorm2d(512),\n",
        "            nn.ReLU(inplace=True),\n",
        "            nn.Conv2d(in_channels=512,out_channels=512,kernel_size=3,padding=1),\n",
        "            nn.ReLU(inplace=True),nn.MaxPool2d(kernel_size=2,stride=2),\n",
        "\n",
        "        )\n",
        "\n",
        "        self.fc_layer=nn.Sequential(\n",
        "            nn.Dropout(p=0.1),\n",
        "            nn.Linear(8192,1024),\n",
        "            nn.ReLU(inplace=True),\n",
        "            nn.Linear(1024,512),\n",
        "            nn.ReLU(inplace=True),\n",
        "            nn.Dropout(p=0.1),\n",
        "            nn.Linear(512,10))\n",
        "        \n",
        "    def forward(self,x):\n",
        "        \"\"\"Perform forward.\"\"\"\n",
        "        # conv layers\n",
        "        x=self.conv_layer(x)\n",
        "        # flatten\n",
        "        x=x.view(x.size(0),-1)\n",
        "        # fc layer\n",
        "        x=self.fc_layer(x)\n",
        "        return x\n"
      ],
      "execution_count": 13,
      "outputs": []
    },
    {
      "cell_type": "code",
      "metadata": {
        "id": "-zrijs8CNcee"
      },
      "source": [
        "# %% Optimizer setup \n",
        "\n",
        "# device - cpu or gpu?\n",
        "device=torch.device(\"cuda:0\" if torch.cuda.is_available() else \"cpu\")\n",
        "\n",
        "# loss criterion\n",
        "criterion=nn.CrossEntropyLoss()\n",
        "\n",
        "# build our model and send it to the device\n",
        "Our_Model=OurModel().to(device)# no need for parameters as we alredy defined them in the class\n",
        "\n",
        "# optimizer - Adam\n",
        "optimizer=torch.optim.Adam(Our_Model.parameters(),lr=learning_rate)\n",
        "\n"
      ],
      "execution_count": 14,
      "outputs": []
    },
    {
      "cell_type": "code",
      "metadata": {
        "colab": {
          "base_uri": "https://localhost:8080/"
        },
        "id": "X1MwAbPmO4wZ",
        "outputId": "0303f69f-616f-4bf8-ca08-434d763304a3"
      },
      "source": [
        "print('Our model summary:')\n",
        "summary(Our_Model, input_size=(3, 32, 32))"
      ],
      "execution_count": 15,
      "outputs": [
        {
          "output_type": "stream",
          "text": [
            "Our model summary:\n",
            "----------------------------------------------------------------\n",
            "        Layer (type)               Output Shape         Param #\n",
            "================================================================\n",
            "            Conv2d-1           [-1, 64, 32, 32]           1,792\n",
            "       BatchNorm2d-2           [-1, 64, 32, 32]             128\n",
            "              ReLU-3           [-1, 64, 32, 32]               0\n",
            "            Conv2d-4          [-1, 128, 32, 32]          73,856\n",
            "              ReLU-5          [-1, 128, 32, 32]               0\n",
            "         MaxPool2d-6          [-1, 128, 16, 16]               0\n",
            "            Conv2d-7          [-1, 256, 16, 16]         295,168\n",
            "       BatchNorm2d-8          [-1, 256, 16, 16]             512\n",
            "              ReLU-9          [-1, 256, 16, 16]               0\n",
            "           Conv2d-10          [-1, 256, 16, 16]         590,080\n",
            "             ReLU-11          [-1, 256, 16, 16]               0\n",
            "        MaxPool2d-12            [-1, 256, 8, 8]               0\n",
            "        Dropout2d-13            [-1, 256, 8, 8]               0\n",
            "           Conv2d-14            [-1, 512, 8, 8]       1,180,160\n",
            "      BatchNorm2d-15            [-1, 512, 8, 8]           1,024\n",
            "             ReLU-16            [-1, 512, 8, 8]               0\n",
            "           Conv2d-17            [-1, 512, 8, 8]       2,359,808\n",
            "             ReLU-18            [-1, 512, 8, 8]               0\n",
            "        MaxPool2d-19            [-1, 512, 4, 4]               0\n",
            "          Dropout-20                 [-1, 8192]               0\n",
            "           Linear-21                 [-1, 1024]       8,389,632\n",
            "             ReLU-22                 [-1, 1024]               0\n",
            "           Linear-23                  [-1, 512]         524,800\n",
            "             ReLU-24                  [-1, 512]               0\n",
            "          Dropout-25                  [-1, 512]               0\n",
            "           Linear-26                   [-1, 10]           5,130\n",
            "================================================================\n",
            "Total params: 13,422,090\n",
            "Trainable params: 13,422,090\n",
            "Non-trainable params: 0\n",
            "----------------------------------------------------------------\n",
            "Input size (MB): 0.01\n",
            "Forward/backward pass size (MB): 7.90\n",
            "Params size (MB): 51.20\n",
            "Estimated Total Size (MB): 59.12\n",
            "----------------------------------------------------------------\n"
          ],
          "name": "stdout"
        }
      ]
    },
    {
      "cell_type": "code",
      "metadata": {
        "colab": {
          "base_uri": "https://localhost:8080/"
        },
        "id": "FyJ4EjgeNtQ5",
        "outputId": "7a4bfd5a-5473-47b1-fe3f-c050ac1a3754"
      },
      "source": [
        "# %% Train our model\n",
        "TrainModel(Our_Model,epochs,network_type=1)"
      ],
      "execution_count": 16,
      "outputs": [
        {
          "output_type": "stream",
          "text": [
            "Epoch: 1 | Loss: 1.1479 | Training accuracy: 80.596% | Test accuracy: 80.589% | Epoch Time: 68.49 secs\n",
            "Epoch: 2 | Loss: 0.4483 | Training accuracy: 88.846% | Test accuracy: 88.687% | Epoch Time: 69.03 secs\n",
            "Epoch: 3 | Loss: 0.3494 | Training accuracy: 90.972% | Test accuracy: 90.946% | Epoch Time: 69.24 secs\n",
            "Epoch: 4 | Loss: 0.3021 | Training accuracy: 92.077% | Test accuracy: 92.340% | Epoch Time: 69.05 secs\n",
            "Epoch: 5 | Loss: 0.2729 | Training accuracy: 92.743% | Test accuracy: 92.893% | Epoch Time: 69.24 secs\n",
            "Epoch: 6 | Loss: 0.2510 | Training accuracy: 92.762% | Test accuracy: 92.240% | Epoch Time: 69.27 secs\n",
            "Epoch: 7 | Loss: 0.2349 | Training accuracy: 94.259% | Test accuracy: 93.715% | Epoch Time: 68.98 secs\n",
            "Epoch: 8 | Loss: 0.2212 | Training accuracy: 94.383% | Test accuracy: 93.946% | Epoch Time: 68.78 secs\n",
            "Epoch: 9 | Loss: 0.2082 | Training accuracy: 94.966% | Test accuracy: 94.415% | Epoch Time: 68.91 secs\n",
            "Epoch: 10 | Loss: 0.1983 | Training accuracy: 94.757% | Test accuracy: 94.015% | Epoch Time: 69.21 secs\n",
            "Epoch: 11 | Loss: 0.1892 | Training accuracy: 94.906% | Test accuracy: 94.015% | Epoch Time: 69.03 secs\n",
            "Epoch: 12 | Loss: 0.1822 | Training accuracy: 95.519% | Test accuracy: 94.165% | Epoch Time: 68.78 secs\n",
            "Epoch: 13 | Loss: 0.1714 | Training accuracy: 95.598% | Test accuracy: 94.315% | Epoch Time: 68.68 secs\n",
            "Epoch: 14 | Loss: 0.1648 | Training accuracy: 96.043% | Test accuracy: 94.668% | Epoch Time: 68.03 secs\n",
            "Epoch: 15 | Loss: 0.1582 | Training accuracy: 96.097% | Test accuracy: 94.972% | Epoch Time: 68.63 secs\n",
            "Epoch: 16 | Loss: 0.1502 | Training accuracy: 96.111% | Test accuracy: 94.334% | Epoch Time: 69.14 secs\n",
            "Epoch: 17 | Loss: 0.1457 | Training accuracy: 96.421% | Test accuracy: 94.484% | Epoch Time: 68.81 secs\n",
            "Epoch: 18 | Loss: 0.1389 | Training accuracy: 96.428% | Test accuracy: 94.449% | Epoch Time: 68.53 secs\n",
            "Epoch: 19 | Loss: 0.1321 | Training accuracy: 97.026% | Test accuracy: 95.068% | Epoch Time: 68.98 secs\n",
            "Epoch: 20 | Loss: 0.1279 | Training accuracy: 96.930% | Test accuracy: 94.910% | Epoch Time: 68.31 secs\n",
            "==> Saving model ...\n",
            "==> Finished Training ...\n"
          ],
          "name": "stdout"
        }
      ]
    },
    {
      "cell_type": "code",
      "metadata": {
        "colab": {
          "base_uri": "https://localhost:8080/",
          "height": 407
        },
        "id": "by9KQnWoOKSw",
        "outputId": "c31340d3-1c92-481d-af3d-a49fdbc4f615"
      },
      "source": [
        "# load model, calculate accuracy and confusion matrix\n",
        "Our_Model=OurModel().to(device)\n",
        "state=torch.load('./checkpoints/our_cnn_ckpt.pth',map_location=device)\n",
        "Our_Model.load_state_dict(state['net'])\n",
        "test_accuracy,confusion_matrix=calculate_accuracy(Our_Model,test_loader,device)\n",
        "print(\"test accuracy: {:.3f}%\".format(test_accuracy))\n",
        "# plot confusion matrix\n",
        "fig,ax=plt.subplots(1,1,figsize=(8,6))\n",
        "ax.matshow(confusion_matrix,aspect='auto',vmin=0,vmax=1000,cmap=plt.get_cmap('Blues'))\n",
        "plt.ylabel('Actual Category')\n",
        "plt.yticks(range(10),classes)\n",
        "plt.xlabel('Predicted Category')\n",
        "plt.xticks(range(10),classes)\n",
        "plt.show()"
      ],
      "execution_count": 17,
      "outputs": [
        {
          "output_type": "stream",
          "text": [
            "test accuracy: 94.910%\n"
          ],
          "name": "stdout"
        },
        {
          "output_type": "display_data",
          "data": {
            "image/png": "[encoded data removed]",
            "text/plain": [
              "<Figure size 576x432 with 1 Axes>"
            ]
          },
          "metadata": {
            "tags": [],
            "needs_background": "light"
          }
        }
      ]
    },
    {
      "cell_type": "code",
      "metadata": {
        "id": "n-7HTRrUrQ5E"
      },
      "source": [
        "# %% Train validation test split:\n",
        "\n",
        "def get_train_valid_loader(data_dir,\n",
        "                           batch_size,\n",
        "                           valid_size=0.2,\n",
        "                           shuffle=True,\n",
        "                           num_workers=1,\n",
        "                           pin_memory=True):\n",
        "    \"\"\"\n",
        "    Utility function for loading and returning train and valid \n",
        "    multi-process iterators over the MNIST dataset. A sample \n",
        "    9x9 grid of the images can be optionally displayed.\n",
        "    If using CUDA, num_workers should be set to 1 and pin_memory to True.\n",
        "    Params\n",
        "    ------\n",
        "    - data_dir: path directory to the dataset.\n",
        "    - batch_size: how many samples per batch to load.\n",
        "    - valid_size: percentage split of the training set used for\n",
        "      the validation set. Should be a float in the range [0, 1].\n",
        "    - shuffle: whether to shuffle the train/validation indices.\n",
        "    - num_workers: number of subprocesses to use when loading the dataset.\n",
        "    - pin_memory: whether to copy tensors into CUDA pinned memory. Set it to\n",
        "      True if using GPU.\n",
        "    Returns\n",
        "    -------\n",
        "    - train_loader: training set iterator.\n",
        "    - valid_loader: validation set iterator.\n",
        "    \"\"\"\n",
        "    error_msg = \"[!] valid_size should be in the range [0, 1].\"\n",
        "    assert ((valid_size >= 0) and (valid_size <= 1)), error_msg\n",
        "\n",
        "    normalize = transforms.Normalize((0.1307,), (0.3081,))  # MNIST\n",
        "\n",
        "    # define transforms\n",
        "    valid_transform = transforms.Compose([\n",
        "            transforms.ToTensor(),\n",
        "        transforms.Normalize((0.4914,0.4822,0.4465),(0.2023,0.1994,0.2010)),])\n",
        "\n",
        "\n",
        "    train_transform=transforms.Compose([\n",
        "        transforms.RandomCrop(32,padding=4),\n",
        "        transforms.RandomHorizontalFlip(),\n",
        "        transforms.ToTensor(),\n",
        "        transforms.Normalize((0.4914,0.4822,0.4465),(0.2023,0.1994,0.2010)),])\n",
        "\n",
        "    transform_test=transforms.Compose([\n",
        "        transforms.ToTensor(),\n",
        "        transforms.Normalize((0.4914,0.4822,0.4465),(0.2023,0.1994,0.2010)),])\n",
        "\n",
        "    # load the dataset\n",
        "    train_dataset = SVHN(root=data_dir, split='train',transform=transform_train, target_transform=None, download=True)\n",
        "    valid_dataset = SVHN(root=data_dir, split='train',transform=valid_transform, target_transform=None, download=True)\n",
        "    test_dataset = SVHN(root = data_dir,split='test',transform=transform_test, target_transform=None, download=True)\n",
        "\n",
        "    num_train = len(train_dataset)\n",
        "    indices = list(range(num_train))\n",
        "    split = int(np.floor(valid_size * num_train))\n",
        "\n",
        "    if shuffle == True:\n",
        "        np.random.seed(3)\n",
        "        np.random.shuffle(indices)\n",
        "\n",
        "    train_idx, valid_idx = indices[split:], indices[:split]\n",
        "\n",
        "    train_sampler = SubsetRandomSampler(train_idx)\n",
        "    valid_sampler = SubsetRandomSampler(valid_idx)\n",
        "\n",
        "    train_loader = DataLoader(train_dataset, \n",
        "                    batch_size=batch_size, sampler=train_sampler, \n",
        "                    num_workers=num_workers, pin_memory=pin_memory)\n",
        "\n",
        "    valid_loader = DataLoader(valid_dataset, \n",
        "                    batch_size=batch_size, sampler=valid_sampler, \n",
        "                    num_workers=num_workers, pin_memory=pin_memory)\n",
        "\n",
        "    test_loader = DataLoader(test_dataset,\n",
        "                             batch_size = batch_size,shuffle = False,\n",
        "                             num_workers=num_workers,pin_memory=pin_memory)\n",
        "\n",
        "\n",
        "    return train_loader, valid_loader, test_loader\n"
      ],
      "execution_count": 18,
      "outputs": []
    },
    {
      "cell_type": "code",
      "metadata": {
        "colab": {
          "base_uri": "https://localhost:8080/",
          "height": 275
        },
        "id": "WUV3U8FrmuH8",
        "outputId": "d7651c08-df67-4f78-c946-4f8b6f1504db"
      },
      "source": [
        "# %% Fine tuning network\n",
        "\n",
        "BATCH_SIZE = 128\n",
        "learning_rate = 0.5e-4\n",
        "epochs = 30\n",
        "\n",
        "train_loader, valid_loader, test_loader = get_train_valid_loader(data_dir='./datasets',batch_size = BATCH_SIZE)\n",
        "# device - cpu or gpu?\n",
        "device=torch.device(\"cuda:0\" if torch.cuda.is_available() else \"cpu\")\n",
        "\n",
        "# loss criterion\n",
        "criterion=nn.CrossEntropyLoss()\n",
        "\n",
        "# build our model and send it to the device\n",
        "Our_Model2=OurModel().to(device)# no need for parameters as we alredy defined them in the class\n",
        "\n",
        "# optimizer - Adam\n",
        "optimizer=torch.optim.Adam(Our_Model2.parameters(),lr=learning_rate)\n"
      ],
      "execution_count": 1,
      "outputs": [
        {
          "output_type": "error",
          "ename": "NameError",
          "evalue": "ignored",
          "traceback": [
            "\u001b[0;31m---------------------------------------------------------------------------\u001b[0m",
            "\u001b[0;31mNameError\u001b[0m                                 Traceback (most recent call last)",
            "\u001b[0;32m<ipython-input-1-8c19d01de6fa>\u001b[0m in \u001b[0;36m<module>\u001b[0;34m()\u001b[0m\n\u001b[1;32m      5\u001b[0m \u001b[0mepochs\u001b[0m \u001b[0;34m=\u001b[0m \u001b[0;36m30\u001b[0m\u001b[0;34m\u001b[0m\u001b[0;34m\u001b[0m\u001b[0m\n\u001b[1;32m      6\u001b[0m \u001b[0;34m\u001b[0m\u001b[0m\n\u001b[0;32m----> 7\u001b[0;31m \u001b[0mtrain_loader\u001b[0m\u001b[0;34m,\u001b[0m \u001b[0mvalid_loader\u001b[0m\u001b[0;34m,\u001b[0m \u001b[0mtest_loader\u001b[0m \u001b[0;34m=\u001b[0m \u001b[0mget_train_valid_loader\u001b[0m\u001b[0;34m(\u001b[0m\u001b[0mdata_dir\u001b[0m\u001b[0;34m=\u001b[0m\u001b[0;34m'./datasets'\u001b[0m\u001b[0;34m,\u001b[0m\u001b[0mbatch_size\u001b[0m \u001b[0;34m=\u001b[0m \u001b[0mBATCH_SIZE\u001b[0m\u001b[0;34m)\u001b[0m\u001b[0;34m\u001b[0m\u001b[0;34m\u001b[0m\u001b[0m\n\u001b[0m\u001b[1;32m      8\u001b[0m \u001b[0;31m# device - cpu or gpu?\u001b[0m\u001b[0;34m\u001b[0m\u001b[0;34m\u001b[0m\u001b[0;34m\u001b[0m\u001b[0m\n\u001b[1;32m      9\u001b[0m \u001b[0mdevice\u001b[0m\u001b[0;34m=\u001b[0m\u001b[0mtorch\u001b[0m\u001b[0;34m.\u001b[0m\u001b[0mdevice\u001b[0m\u001b[0;34m(\u001b[0m\u001b[0;34m\"cuda:0\"\u001b[0m \u001b[0;32mif\u001b[0m \u001b[0mtorch\u001b[0m\u001b[0;34m.\u001b[0m\u001b[0mcuda\u001b[0m\u001b[0;34m.\u001b[0m\u001b[0mis_available\u001b[0m\u001b[0;34m(\u001b[0m\u001b[0;34m)\u001b[0m \u001b[0;32melse\u001b[0m \u001b[0;34m\"cpu\"\u001b[0m\u001b[0;34m)\u001b[0m\u001b[0;34m\u001b[0m\u001b[0;34m\u001b[0m\u001b[0m\n",
            "\u001b[0;31mNameError\u001b[0m: name 'get_train_valid_loader' is not defined"
          ]
        }
      ]
    },
    {
      "cell_type": "code",
      "metadata": {
        "id": "vDQwRCxyxd1D"
      },
      "source": [
        "# %% Train model\n",
        "TrainModel(Our_Model2,epochs,network_type=2)"
      ],
      "execution_count": null,
      "outputs": []
    },
    {
      "cell_type": "code",
      "metadata": {
        "colab": {
          "base_uri": "https://localhost:8080/",
          "height": 407
        },
        "id": "OIjSSJJ3nS6M",
        "outputId": "e68fda38-9e4e-46a4-ecf1-1534ff4c47c6"
      },
      "source": [
        "# load model, calculate accuracy and confusion matrix\n",
        "Our_Model2=OurModel().to(device)\n",
        "state=torch.load('./checkpoints/our_cnn_hyperparameter_tuning_ckpt.pth',map_location=device)\n",
        "Our_Model2.load_state_dict(state['net'])\n",
        "test_accuracy,confusion_matrix=calculate_accuracy(Our_Model2,test_loader,device)\n",
        "print(\"test accuracy: {:.3f}%\".format(test_accuracy))\n",
        "# plot confusion matrix\n",
        "fig,ax=plt.subplots(1,1,figsize=(8,6))\n",
        "ax.matshow(confusion_matrix,aspect='auto',vmin=0,vmax=1000,cmap=plt.get_cmap('Blues'))\n",
        "plt.ylabel('Actual Category')\n",
        "plt.yticks(range(10),classes)\n",
        "plt.xlabel('Predicted Category')\n",
        "plt.xticks(range(10),classes)\n",
        "plt.show()"
      ],
      "execution_count": 27,
      "outputs": [
        {
          "output_type": "stream",
          "text": [
            "test accuracy: 94.603%\n"
          ],
          "name": "stdout"
        },
        {
          "output_type": "display_data",
          "data": {
            "image/png": "[encoded data removed]",
            "text/plain": [
              "<Figure size 576x432 with 1 Axes>"
            ]
          },
          "metadata": {
            "tags": [],
            "needs_background": "light"
          }
        }
      ]
    },
    {
      "cell_type": "markdown",
      "metadata": {
        "id": "Yk8d56DMc28I"
      },
      "source": [
        "#### Part 2 - Analyzing a Pre-trained CNN\n",
        "---\n",
        "In this part you are going to analyze a (large) pre-trained model. Pre-trained models are quite popular these days, as big companies can train really large models on large datasets (something that personal users can't do as they lack the sufficient hardware). These pre-trained models can be used to fine-tune on other/small datasets or used as components in other tasks (like using a pre-trained classifier for object detection).\n",
        "\n",
        "All pre-trained models expect input images normalized in the same way, i.e. mini-batches of 3-channel RGB images of shape (3 x H x W), where H and W are expected to be at least 224. The images have to be loaded in to a range of `[0, 1]` and then normalized using `mean = [0.485, 0.456, 0.406]` and `std = [0.229, 0.224, 0.225]`. \n",
        "\n",
        "You can use the following transform to normalize:\n",
        "\n",
        "`normalize = transforms.Normalize(mean=[0.485, 0.456, 0.406], std=[0.229, 0.224, 0.225])`\n",
        "\n",
        "<a href=\"https://pytorch.org/vision/stable/models.html\">Read more here</a>\n",
        "\n",
        "1. Load a pre-trained VGG16 with PyTorch using `torchvision.models.vgg16(pretrained=True, progress=True, **kwargs)` (<a href=\"https://pytorch.org/vision/stable/models.html#classification\">read more here</a>). Don't forget to use the model in evaluation mode (`model.eval()`). \n",
        "2. Load the images in the `./birds` folder and display them.\n",
        "3. Pre-process the images to fit VGG16's architecture. What steps did you take?\n",
        "4. Feed the images (forward pass) to the model. What are the outputs?\n",
        "5. Find an image of a bird/cat/dog on the internet, display it and feed it to network. What are the outputs?\n",
        "6. Apply the following 3 transformations to create 3 *new* images from the image from step 5, and display them (`opencv` has functions for all):\n",
        "    * One **geometric transformation** (rotation, scaling, translation, warping...).\n",
        "    * One **color transformation** (thresholding, different color space, hue, saturation, brightness, contrast...).\n",
        "    * One **filter** (any filter you want).\n",
        "7. Feed the transformed images to network, what is the output? is it different than section 5?\n",
        "8. For the first 3 filters in the *first layer* of VGG16, plot the filters, and then plot their response (their output) for the image from section 5 and the 3 images from section 6 (total of 4 input images). Explain what do you see.\n",
        "    * Consult `ee046746_appndx_visualizing_cnn_filters.ipynb` to refresh your memory.\n",
        "9. For each image in the `./dogs` and `./cats` folders, extract and save their feature vectors (create a numpy array or a torch tensor that contains the features for all samples) from a fully-connected layer (such as `FC7`) of the VGG16 model. Which layer did you pick? What is the size of the feature space?\n",
        "    * You need to write a function that does the feed forward manually until the desired layer. See the example in `ee046746_appndx_visualizing_cnn_filters.ipynb`. \n",
        "10. Build a Support Vector Machine (SVM) classifier (hint: `sklearn.svm.LinearSVC`) to classify cats and dogs based on the features you extracted. Use the 20 images as train set, and choose 4 images (2 dogs, 2 cats) from the internet as test sets. You can choose a different classifer than SVM from the `scikit-learn` library, no need to explain how it works (but report the name of the algorithm you used). What are the results?"
      ]
    },
    {
      "cell_type": "markdown",
      "metadata": {
        "id": "QD3ze1VDc28I"
      },
      "source": [
        "## <img src=\"https://img.icons8.com/dusk/64/000000/prize.png\" style=\"height:50px;display:inline\"> Credits\n",
        "* Icons from <a href=\"https://icons8.com/\">Icon8.com</a> - https://icons8.com"
      ]
    }
  ]
}