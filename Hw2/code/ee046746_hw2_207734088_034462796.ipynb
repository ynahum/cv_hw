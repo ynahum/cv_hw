{
  "nbformat": 4,
  "nbformat_minor": 0,
  "metadata": {
    "kernelspec": {
      "display_name": "Python 3",
      "language": "python",
      "name": "python3"
    },
    "language_info": {
      "codemirror_mode": {
        "name": "ipython",
        "version": 3
      },
      "file_extension": ".py",
      "mimetype": "text/x-python",
      "name": "python",
      "nbconvert_exporter": "python",
      "pygments_lexer": "ipython3",
      "version": "3.7.10"
    },
    "colab": {
      "name": "ee046746_hw2_207734088_034462796.ipynb",
      "provenance": [],
      "collapsed_sections": []
    },
    "accelerator": "GPU",
    "widgets": {
      "application/vnd.jupyter.widget-state+json": {
        "b3618261d1c94f08b5f9eb41ce0ae584": {
          "model_module": "@jupyter-widgets/controls",
          "model_name": "HBoxModel",
          "state": {
            "_view_name": "HBoxView",
            "_dom_classes": [],
            "_model_name": "HBoxModel",
            "_view_module": "@jupyter-widgets/controls",
            "_model_module_version": "1.5.0",
            "_view_count": null,
            "_view_module_version": "1.5.0",
            "box_style": "",
            "layout": "IPY_MODEL_af3bcbade24743ccaa8f02f808a4d49e",
            "_model_module": "@jupyter-widgets/controls",
            "children": [
              "IPY_MODEL_0d32d16bbe684bb491b5d5740e6332a9",
              "IPY_MODEL_87526643cace4681ae89788f8db61756"
            ]
          }
        },
        "af3bcbade24743ccaa8f02f808a4d49e": {
          "model_module": "@jupyter-widgets/base",
          "model_name": "LayoutModel",
          "state": {
            "_view_name": "LayoutView",
            "grid_template_rows": null,
            "right": null,
            "justify_content": null,
            "_view_module": "@jupyter-widgets/base",
            "overflow": null,
            "_model_module_version": "1.2.0",
            "_view_count": null,
            "flex_flow": null,
            "width": null,
            "min_width": null,
            "border": null,
            "align_items": null,
            "bottom": null,
            "_model_module": "@jupyter-widgets/base",
            "top": null,
            "grid_column": null,
            "overflow_y": null,
            "overflow_x": null,
            "grid_auto_flow": null,
            "grid_area": null,
            "grid_template_columns": null,
            "flex": null,
            "_model_name": "LayoutModel",
            "justify_items": null,
            "grid_row": null,
            "max_height": null,
            "align_content": null,
            "visibility": null,
            "align_self": null,
            "height": null,
            "min_height": null,
            "padding": null,
            "grid_auto_rows": null,
            "grid_gap": null,
            "max_width": null,
            "order": null,
            "_view_module_version": "1.2.0",
            "grid_template_areas": null,
            "object_position": null,
            "object_fit": null,
            "grid_auto_columns": null,
            "margin": null,
            "display": null,
            "left": null
          }
        },
        "0d32d16bbe684bb491b5d5740e6332a9": {
          "model_module": "@jupyter-widgets/controls",
          "model_name": "FloatProgressModel",
          "state": {
            "_view_name": "ProgressView",
            "style": "IPY_MODEL_4070b423c83148a58a139f964401cd61",
            "_dom_classes": [],
            "description": "",
            "_model_name": "FloatProgressModel",
            "bar_style": "success",
            "max": 182040794,
            "_view_module": "@jupyter-widgets/controls",
            "_model_module_version": "1.5.0",
            "value": 182040794,
            "_view_count": null,
            "_view_module_version": "1.5.0",
            "orientation": "horizontal",
            "min": 0,
            "description_tooltip": null,
            "_model_module": "@jupyter-widgets/controls",
            "layout": "IPY_MODEL_9cb72f89e59e472685c57f3a7e9ed40a"
          }
        },
        "87526643cace4681ae89788f8db61756": {
          "model_module": "@jupyter-widgets/controls",
          "model_name": "HTMLModel",
          "state": {
            "_view_name": "HTMLView",
            "style": "IPY_MODEL_ba99e612924144ebb99527ce53e8f2e3",
            "_dom_classes": [],
            "description": "",
            "_model_name": "HTMLModel",
            "placeholder": "​",
            "_view_module": "@jupyter-widgets/controls",
            "_model_module_version": "1.5.0",
            "value": " 182041600/? [00:22&lt;00:00, 8233200.52it/s]",
            "_view_count": null,
            "_view_module_version": "1.5.0",
            "description_tooltip": null,
            "_model_module": "@jupyter-widgets/controls",
            "layout": "IPY_MODEL_d8c2c03c4c804f6d8d5da87cbae0cb54"
          }
        },
        "4070b423c83148a58a139f964401cd61": {
          "model_module": "@jupyter-widgets/controls",
          "model_name": "ProgressStyleModel",
          "state": {
            "_view_name": "StyleView",
            "_model_name": "ProgressStyleModel",
            "description_width": "initial",
            "_view_module": "@jupyter-widgets/base",
            "_model_module_version": "1.5.0",
            "_view_count": null,
            "_view_module_version": "1.2.0",
            "bar_color": null,
            "_model_module": "@jupyter-widgets/controls"
          }
        },
        "9cb72f89e59e472685c57f3a7e9ed40a": {
          "model_module": "@jupyter-widgets/base",
          "model_name": "LayoutModel",
          "state": {
            "_view_name": "LayoutView",
            "grid_template_rows": null,
            "right": null,
            "justify_content": null,
            "_view_module": "@jupyter-widgets/base",
            "overflow": null,
            "_model_module_version": "1.2.0",
            "_view_count": null,
            "flex_flow": null,
            "width": null,
            "min_width": null,
            "border": null,
            "align_items": null,
            "bottom": null,
            "_model_module": "@jupyter-widgets/base",
            "top": null,
            "grid_column": null,
            "overflow_y": null,
            "overflow_x": null,
            "grid_auto_flow": null,
            "grid_area": null,
            "grid_template_columns": null,
            "flex": null,
            "_model_name": "LayoutModel",
            "justify_items": null,
            "grid_row": null,
            "max_height": null,
            "align_content": null,
            "visibility": null,
            "align_self": null,
            "height": null,
            "min_height": null,
            "padding": null,
            "grid_auto_rows": null,
            "grid_gap": null,
            "max_width": null,
            "order": null,
            "_view_module_version": "1.2.0",
            "grid_template_areas": null,
            "object_position": null,
            "object_fit": null,
            "grid_auto_columns": null,
            "margin": null,
            "display": null,
            "left": null
          }
        },
        "ba99e612924144ebb99527ce53e8f2e3": {
          "model_module": "@jupyter-widgets/controls",
          "model_name": "DescriptionStyleModel",
          "state": {
            "_view_name": "StyleView",
            "_model_name": "DescriptionStyleModel",
            "description_width": "",
            "_view_module": "@jupyter-widgets/base",
            "_model_module_version": "1.5.0",
            "_view_count": null,
            "_view_module_version": "1.2.0",
            "_model_module": "@jupyter-widgets/controls"
          }
        },
        "d8c2c03c4c804f6d8d5da87cbae0cb54": {
          "model_module": "@jupyter-widgets/base",
          "model_name": "LayoutModel",
          "state": {
            "_view_name": "LayoutView",
            "grid_template_rows": null,
            "right": null,
            "justify_content": null,
            "_view_module": "@jupyter-widgets/base",
            "overflow": null,
            "_model_module_version": "1.2.0",
            "_view_count": null,
            "flex_flow": null,
            "width": null,
            "min_width": null,
            "border": null,
            "align_items": null,
            "bottom": null,
            "_model_module": "@jupyter-widgets/base",
            "top": null,
            "grid_column": null,
            "overflow_y": null,
            "overflow_x": null,
            "grid_auto_flow": null,
            "grid_area": null,
            "grid_template_columns": null,
            "flex": null,
            "_model_name": "LayoutModel",
            "justify_items": null,
            "grid_row": null,
            "max_height": null,
            "align_content": null,
            "visibility": null,
            "align_self": null,
            "height": null,
            "min_height": null,
            "padding": null,
            "grid_auto_rows": null,
            "grid_gap": null,
            "max_width": null,
            "order": null,
            "_view_module_version": "1.2.0",
            "grid_template_areas": null,
            "object_position": null,
            "object_fit": null,
            "grid_auto_columns": null,
            "margin": null,
            "display": null,
            "left": null
          }
        },
        "cab06bcd3e754e5092c18ed87c787bd7": {
          "model_module": "@jupyter-widgets/controls",
          "model_name": "HBoxModel",
          "state": {
            "_view_name": "HBoxView",
            "_dom_classes": [],
            "_model_name": "HBoxModel",
            "_view_module": "@jupyter-widgets/controls",
            "_model_module_version": "1.5.0",
            "_view_count": null,
            "_view_module_version": "1.5.0",
            "box_style": "",
            "layout": "IPY_MODEL_a5723370b38b43d28c350b3061a09648",
            "_model_module": "@jupyter-widgets/controls",
            "children": [
              "IPY_MODEL_fc5d3141753f4435a4221ff76613fa50",
              "IPY_MODEL_05adc4627f724c5bbffed2077ee0acd9"
            ]
          }
        },
        "a5723370b38b43d28c350b3061a09648": {
          "model_module": "@jupyter-widgets/base",
          "model_name": "LayoutModel",
          "state": {
            "_view_name": "LayoutView",
            "grid_template_rows": null,
            "right": null,
            "justify_content": null,
            "_view_module": "@jupyter-widgets/base",
            "overflow": null,
            "_model_module_version": "1.2.0",
            "_view_count": null,
            "flex_flow": null,
            "width": null,
            "min_width": null,
            "border": null,
            "align_items": null,
            "bottom": null,
            "_model_module": "@jupyter-widgets/base",
            "top": null,
            "grid_column": null,
            "overflow_y": null,
            "overflow_x": null,
            "grid_auto_flow": null,
            "grid_area": null,
            "grid_template_columns": null,
            "flex": null,
            "_model_name": "LayoutModel",
            "justify_items": null,
            "grid_row": null,
            "max_height": null,
            "align_content": null,
            "visibility": null,
            "align_self": null,
            "height": null,
            "min_height": null,
            "padding": null,
            "grid_auto_rows": null,
            "grid_gap": null,
            "max_width": null,
            "order": null,
            "_view_module_version": "1.2.0",
            "grid_template_areas": null,
            "object_position": null,
            "object_fit": null,
            "grid_auto_columns": null,
            "margin": null,
            "display": null,
            "left": null
          }
        },
        "fc5d3141753f4435a4221ff76613fa50": {
          "model_module": "@jupyter-widgets/controls",
          "model_name": "FloatProgressModel",
          "state": {
            "_view_name": "ProgressView",
            "style": "IPY_MODEL_d81f4236491b474b824bf30ff0dfde01",
            "_dom_classes": [],
            "description": "",
            "_model_name": "FloatProgressModel",
            "bar_style": "success",
            "max": 64275384,
            "_view_module": "@jupyter-widgets/controls",
            "_model_module_version": "1.5.0",
            "value": 64275384,
            "_view_count": null,
            "_view_module_version": "1.5.0",
            "orientation": "horizontal",
            "min": 0,
            "description_tooltip": null,
            "_model_module": "@jupyter-widgets/controls",
            "layout": "IPY_MODEL_af8500b3e4684d8182aaeff4e6c4db52"
          }
        },
        "05adc4627f724c5bbffed2077ee0acd9": {
          "model_module": "@jupyter-widgets/controls",
          "model_name": "HTMLModel",
          "state": {
            "_view_name": "HTMLView",
            "style": "IPY_MODEL_01e09a495576416ca4f7850bec344690",
            "_dom_classes": [],
            "description": "",
            "_model_name": "HTMLModel",
            "placeholder": "​",
            "_view_module": "@jupyter-widgets/controls",
            "_model_module_version": "1.5.0",
            "value": " 64275456/? [00:09&lt;00:00, 6541694.89it/s]",
            "_view_count": null,
            "_view_module_version": "1.5.0",
            "description_tooltip": null,
            "_model_module": "@jupyter-widgets/controls",
            "layout": "IPY_MODEL_d8591c37be5749b1b14f011502d1121c"
          }
        },
        "d81f4236491b474b824bf30ff0dfde01": {
          "model_module": "@jupyter-widgets/controls",
          "model_name": "ProgressStyleModel",
          "state": {
            "_view_name": "StyleView",
            "_model_name": "ProgressStyleModel",
            "description_width": "initial",
            "_view_module": "@jupyter-widgets/base",
            "_model_module_version": "1.5.0",
            "_view_count": null,
            "_view_module_version": "1.2.0",
            "bar_color": null,
            "_model_module": "@jupyter-widgets/controls"
          }
        },
        "af8500b3e4684d8182aaeff4e6c4db52": {
          "model_module": "@jupyter-widgets/base",
          "model_name": "LayoutModel",
          "state": {
            "_view_name": "LayoutView",
            "grid_template_rows": null,
            "right": null,
            "justify_content": null,
            "_view_module": "@jupyter-widgets/base",
            "overflow": null,
            "_model_module_version": "1.2.0",
            "_view_count": null,
            "flex_flow": null,
            "width": null,
            "min_width": null,
            "border": null,
            "align_items": null,
            "bottom": null,
            "_model_module": "@jupyter-widgets/base",
            "top": null,
            "grid_column": null,
            "overflow_y": null,
            "overflow_x": null,
            "grid_auto_flow": null,
            "grid_area": null,
            "grid_template_columns": null,
            "flex": null,
            "_model_name": "LayoutModel",
            "justify_items": null,
            "grid_row": null,
            "max_height": null,
            "align_content": null,
            "visibility": null,
            "align_self": null,
            "height": null,
            "min_height": null,
            "padding": null,
            "grid_auto_rows": null,
            "grid_gap": null,
            "max_width": null,
            "order": null,
            "_view_module_version": "1.2.0",
            "grid_template_areas": null,
            "object_position": null,
            "object_fit": null,
            "grid_auto_columns": null,
            "margin": null,
            "display": null,
            "left": null
          }
        },
        "01e09a495576416ca4f7850bec344690": {
          "model_module": "@jupyter-widgets/controls",
          "model_name": "DescriptionStyleModel",
          "state": {
            "_view_name": "StyleView",
            "_model_name": "DescriptionStyleModel",
            "description_width": "",
            "_view_module": "@jupyter-widgets/base",
            "_model_module_version": "1.5.0",
            "_view_count": null,
            "_view_module_version": "1.2.0",
            "_model_module": "@jupyter-widgets/controls"
          }
        },
        "d8591c37be5749b1b14f011502d1121c": {
          "model_module": "@jupyter-widgets/base",
          "model_name": "LayoutModel",
          "state": {
            "_view_name": "LayoutView",
            "grid_template_rows": null,
            "right": null,
            "justify_content": null,
            "_view_module": "@jupyter-widgets/base",
            "overflow": null,
            "_model_module_version": "1.2.0",
            "_view_count": null,
            "flex_flow": null,
            "width": null,
            "min_width": null,
            "border": null,
            "align_items": null,
            "bottom": null,
            "_model_module": "@jupyter-widgets/base",
            "top": null,
            "grid_column": null,
            "overflow_y": null,
            "overflow_x": null,
            "grid_auto_flow": null,
            "grid_area": null,
            "grid_template_columns": null,
            "flex": null,
            "_model_name": "LayoutModel",
            "justify_items": null,
            "grid_row": null,
            "max_height": null,
            "align_content": null,
            "visibility": null,
            "align_self": null,
            "height": null,
            "min_height": null,
            "padding": null,
            "grid_auto_rows": null,
            "grid_gap": null,
            "max_width": null,
            "order": null,
            "_view_module_version": "1.2.0",
            "grid_template_areas": null,
            "object_position": null,
            "object_fit": null,
            "grid_auto_columns": null,
            "margin": null,
            "display": null,
            "left": null
          }
        }
      }
    }
  },
  "cells": [
    {
      "cell_type": "markdown",
      "metadata": {
        "id": "ECZchwKhc27-"
      },
      "source": [
        "# <img src=\"https://img.icons8.com/bubbles/100/000000/3d-glasses.png\" style=\"height:50px;display:inline\"> EE 046746 - Technion - Computer Vision\n",
        "\n",
        "\n",
        "## Homework 2 - Deep Neural Networks, Classifiers & Features\n",
        "---\n",
        "\n",
        "### <a style='color:red'> Due Date: 20.05.2021 </a>"
      ]
    },
    {
      "cell_type": "markdown",
      "metadata": {
        "id": "6CwbIEG2c28E"
      },
      "source": [
        "### <img src=\"https://img.icons8.com/bubbles/50/000000/upload-to-cloud.png\" style=\"height:50px;display:inline\"> Submission Guidelines\n",
        "---\n",
        "#### READ THIS CAREFULLY\n",
        "* Submission only in **pairs**.\n",
        "* **No handwritten submissions**.\n",
        "* You can choose your working environment:\n",
        "    * You can work in a `Jupyter Notebook`, locally with <a href=\"https://www.anaconda.com/distribution/\">Anaconda</a> or online on <a href=\"https://colab.research.google.com/\">Google Colab</a>\n",
        "        * **Important**: Colab also supports running code on GPU, so if you don't have one, Colab is the way to go. To enable GPU on Colab, in the menu: `Runtime`$\\rightarrow$ `Change Runtime Type` $\\rightarrow$`GPU`.\n",
        "    * You can work in a Python IDE such as <a href=\"https://www.jetbrains.com/pycharm/\">PyCharm</a> or <a href=\"https://code.visualstudio.com/\">Visual Studio Code</a>.\n",
        "        * Both also allow opening/editing Jupyter Notebooks.\n",
        "* You should submit two **separated** files:\n",
        "    * A compressed `.zip` file, with the name: `ee046746_hw2_id1_id2.zip` which contains:\n",
        "        * A folder named `code` with all the code files inside (`.py` or `.ipynb` ONLY!), and all the files required for the code to run (your own images/videos).\n",
        "            * **The code should run both on CPU and GPU without manual modifications**, require no special preparation and run on every computer.\n",
        "    * A report file (visualizations, discussing the results and answering the questions) in a `.pdf` format, with the name `ee046746_hw2_id1_id2.pdf`.\n",
        "    * **DON'T** submit the SVHN dataset in your submission, we have a local copy of it.\n",
        "    * **DON'T** submit the trained networks, but make sure to document every result you get.\n",
        "        * Be precise, we expect on point answers.\n",
        "        * No other file-types (`.docx`, `.html`, ...) will be accepted.\n",
        "* Submission on the course website (Moodle)."
      ]
    },
    {
      "cell_type": "markdown",
      "metadata": {
        "id": "I2S9C_uOc28G"
      },
      "source": [
        "### <img src=\"https://img.icons8.com/dusk/64/000000/python.png\" style=\"height:50px;display:inline\"> Python Libraries\n",
        "---\n",
        "\n",
        "* `numpy`\n",
        "* `matplotlib`\n",
        "* `pytorch` (and `torchvision`)\n",
        "* `opencv` (or `scikit-image`)\n",
        "* `scikit-learn`\n",
        "* Anything else you need (`PIL`, `os`, `pandas`, `csv`, `json`,...)"
      ]
    },
    {
      "cell_type": "markdown",
      "metadata": {
        "id": "kHLf2j9Fc28H"
      },
      "source": [
        "### <img src=\"https://img.icons8.com/bubbles/50/000000/checklist.png\" style=\"height:50px;display:inline\"> Tasks\n",
        "---\n",
        "* In all tasks, you should document your process and results in a report file (which will be saved as `.pdf`). \n",
        "* You can reference your code in the report file, but no need for actual code in this file, the code is submitted in a seprate folder as explained above."
      ]
    },
    {
      "cell_type": "markdown",
      "metadata": {
        "id": "pSL5jL-dc28H"
      },
      "source": [
        "#### Part 1 - Design and Build a CNN Classifier\n",
        "---\n",
        "In this part you are going to design a deep convolutional neural network to classify house number digits from the **The Street View House Numbers (SVHN)** Dataset. \n",
        "\n",
        "SVHN is a real-world image dataset for developing machine learning and object recognition algorithms with minimal requirement on data preprocessing and formatting. It can be seen as similar in flavor to MNIST (e.g., the images are of small cropped digits), but incorporates an order of magnitude more labeled data (over 600,000 digit images) and comes from a significantly harder, unsolved, real world problem (recognizing digits and numbers in natural scene images). SVHN is obtained from house numbers in Google Street View images.\n",
        "\n",
        "* 10 classes, 1 for each digit. Digit '0' has label 0, '1' has label 1,...\n",
        "* 73257 digits for training, 26032 digits for testing, and 531131 additional, somewhat less difficult samples, to use as extra training data.\n",
        "\n",
        "<img src=\"http://ufldl.stanford.edu/housenumbers/32x32eg.png\" style=\"height:250px\">\n",
        "\n",
        "1. Load the SVHN dataset with PyTorch using `torchvision.datasets.SVHN(root, split='train', transform=None, target_transform=None, download=True)` (<a href=\"https://pytorch.org/docs/stable/torchvision/datasets.html#svhn\"> read more here</a>). Display 5 images from the train set.\n",
        "2. Use the CNN from tutorials 3-4 (`CifarCnn()`) and train it on the SVHN dataset (**keep the architecture the same**) for the same number of **epochs** with the same learning rate (try to keep the batch size the same, but if you get memory errors, you can reduce it). What is the accuracy on the test set? What classes are most confusing for this model?\n",
        "    * Your test accuracy from this section will be your **baseline** accuracy for sections 3-4.\n",
        "3. Design a Convolutional Neural Network (CNN) to classify digits from the images. You can modify the network from section 2, but **you must get a better result than your baseline accuracy from section 2**.\n",
        "    * Describe the chosen architecture, how many layers? What activations did you choose? What are the filter sizes? Did you use fully-connected layers (if you did, explain their sizes)?\n",
        "    * What is the input dimension? What is the output dimension?\n",
        "    * Calculate the number of parameters (weights) in the network.\n",
        "4. Train the classifier (preferably on a **GPU - use Colab for this part** if you don't have a GPU).\n",
        "    * Describe the the hyper-parameters of the model (batch size, epochs, learning rate....). How did you tune your model? Did you use a validation set to tune the model? (<a href=\"https://gist.github.com/MattKleinsmith/5226a94bad5dd12ed0b871aed98cb123\">Separating to train/validation/test in PyTorch</a>)\n",
        "    * What is the final accuracy on the test set?"
      ]
    },
    {
      "cell_type": "code",
      "metadata": {
        "colab": {
          "base_uri": "https://localhost:8080/"
        },
        "id": "TccW0nRbDbZu",
        "outputId": "9c4ac908-9d82-4405-dfb3-62c2d4a51cf9"
      },
      "source": [
        "# Install package\n",
        "!pip install torchsummary"
      ],
      "execution_count": 1,
      "outputs": [
        {
          "output_type": "stream",
          "text": [
            "Requirement already satisfied: torchsummary in /usr/local/lib/python3.7/dist-packages (1.5.1)\n"
          ],
          "name": "stdout"
        }
      ]
    },
    {
      "cell_type": "code",
      "metadata": {
        "id": "dDV4nYrVeNuA"
      },
      "source": [
        "# %% Imports\n",
        "import torch\n",
        "import torch.nn as nn\n",
        "from torchvision import transforms\n",
        "from torch.utils.data import DataLoader\n",
        "from torch.utils.data.sampler import SubsetRandomSampler\n",
        "from torchvision.datasets import SVHN\n",
        "from torchsummary import summary\n",
        "import matplotlib.pyplot as plt\n",
        "import numpy as np\n",
        "import time\n",
        "import os"
      ],
      "execution_count": 2,
      "outputs": []
    },
    {
      "cell_type": "code",
      "metadata": {
        "colab": {
          "base_uri": "https://localhost:8080/",
          "height": 158,
          "referenced_widgets": [
            "b3618261d1c94f08b5f9eb41ce0ae584",
            "af3bcbade24743ccaa8f02f808a4d49e",
            "0d32d16bbe684bb491b5d5740e6332a9",
            "87526643cace4681ae89788f8db61756",
            "4070b423c83148a58a139f964401cd61",
            "9cb72f89e59e472685c57f3a7e9ed40a",
            "ba99e612924144ebb99527ce53e8f2e3",
            "d8c2c03c4c804f6d8d5da87cbae0cb54",
            "cab06bcd3e754e5092c18ed87c787bd7",
            "a5723370b38b43d28c350b3061a09648",
            "fc5d3141753f4435a4221ff76613fa50",
            "05adc4627f724c5bbffed2077ee0acd9",
            "d81f4236491b474b824bf30ff0dfde01",
            "af8500b3e4684d8182aaeff4e6c4db52",
            "01e09a495576416ca4f7850bec344690",
            "d8591c37be5749b1b14f011502d1121c"
          ]
        },
        "id": "R1OclWnXeDPd",
        "outputId": "50b4dd14-2ea3-41c0-ce0e-4edb0cf7eff9"
      },
      "source": [
        "# %% Quesstion 1\n",
        "# %% Load data\n",
        "\n",
        "train_dataset = SVHN(root = './datasets',split='train',transform=None, target_transform=None, download=True)\n",
        "test_dataset = SVHN(root = './datasets',split='test',transform=None, target_transform=None, download=True)"
      ],
      "execution_count": 3,
      "outputs": [
        {
          "output_type": "stream",
          "text": [
            "Downloading http://ufldl.stanford.edu/housenumbers/train_32x32.mat to ./datasets/train_32x32.mat\n"
          ],
          "name": "stdout"
        },
        {
          "output_type": "display_data",
          "data": {
            "application/vnd.jupyter.widget-view+json": {
              "model_id": "b3618261d1c94f08b5f9eb41ce0ae584",
              "version_minor": 0,
              "version_major": 2
            },
            "text/plain": [
              "HBox(children=(FloatProgress(value=0.0, max=182040794.0), HTML(value='')))"
            ]
          },
          "metadata": {
            "tags": []
          }
        },
        {
          "output_type": "stream",
          "text": [
            "\n",
            "Downloading http://ufldl.stanford.edu/housenumbers/test_32x32.mat to ./datasets/test_32x32.mat\n"
          ],
          "name": "stdout"
        },
        {
          "output_type": "display_data",
          "data": {
            "application/vnd.jupyter.widget-view+json": {
              "model_id": "cab06bcd3e754e5092c18ed87c787bd7",
              "version_minor": 0,
              "version_major": 2
            },
            "text/plain": [
              "HBox(children=(FloatProgress(value=0.0, max=64275384.0), HTML(value='')))"
            ]
          },
          "metadata": {
            "tags": []
          }
        },
        {
          "output_type": "stream",
          "text": [
            "\n"
          ],
          "name": "stdout"
        }
      ]
    },
    {
      "cell_type": "code",
      "metadata": {
        "colab": {
          "base_uri": "https://localhost:8080/",
          "height": 221
        },
        "id": "SoxfraJijGK_",
        "outputId": "63ee9c7a-58d4-4222-c057-71acf5198aad"
      },
      "source": [
        "# %% Display 5 images from the train set.\n",
        "\n",
        "fig = plt.figure(figsize=(13,9))\n",
        "for i in range(5):\n",
        "    ax=fig.add_subplot(1,5,i+1)\n",
        "    ax.imshow(train_dataset[i][0],interpolation='none')\n",
        "    ax.set_title(\"Ground Truth: {}\".format(train_dataset[i][1]))\n",
        "    ax.set_axis_off()\n",
        "    plt.tight_layout()"
      ],
      "execution_count": 4,
      "outputs": [
        {
          "output_type": "display_data",
          "data": {
            "image/png": "[encoded data removed]",
            "text/plain": [
              "<Figure size 936x648 with 5 Axes>"
            ]
          },
          "metadata": {
            "tags": [],
            "needs_background": "light"
          }
        }
      ]
    },
    {
      "cell_type": "code",
      "metadata": {
        "colab": {
          "base_uri": "https://localhost:8080/"
        },
        "id": "UvB6XcGii-KJ",
        "outputId": "aaf849ba-11dc-455f-a363-4c97044fbda7"
      },
      "source": [
        "# %% Quesstion 2\n",
        "# %% Augmentations & Preprocessing, using the same augmenations as in the tutorial\n",
        "\n",
        "transform_train=transforms.Compose([\n",
        "        transforms.RandomCrop(32,padding=4),\n",
        "        transforms.RandomHorizontalFlip(),\n",
        "        transforms.ToTensor(),\n",
        "        transforms.Normalize((0.4914,0.4822,0.4465),(0.2023,0.1994,0.2010)),])\n",
        "\n",
        "transform_test=transforms.Compose([\n",
        "        transforms.ToTensor(),\n",
        "        transforms.Normalize((0.4914,0.4822,0.4465),(0.2023,0.1994,0.2010)),])\n",
        "\n",
        "classes = ('1','2','3','4','5','6','7','8','9','0')\n",
        "\n",
        "# loading now with transforms applied\n",
        "train_dataset = SVHN(root = './datasets',split='train',transform=transform_train, target_transform=None, download=True)\n",
        "test_dataset = SVHN(root = './datasets',split='test',transform=transform_test, target_transform=None, download=True)\n",
        "\n",
        "BATCH_SIZE = 128\n",
        "learning_rate = 1e-4\n",
        "epochs = 20\n",
        "\n",
        "train_loader = DataLoader(dataset = train_dataset,batch_size = BATCH_SIZE,shuffle = True, num_workers=2)\n",
        "test_loader = DataLoader(dataset = test_dataset,batch_size = BATCH_SIZE,shuffle = False,num_workers=2)\n"
      ],
      "execution_count": 5,
      "outputs": [
        {
          "output_type": "stream",
          "text": [
            "Using downloaded and verified file: ./datasets/train_32x32.mat\n",
            "Using downloaded and verified file: ./datasets/test_32x32.mat\n"
          ],
          "name": "stdout"
        }
      ]
    },
    {
      "cell_type": "code",
      "metadata": {
        "id": "NZgR9_S-08G3"
      },
      "source": [
        "# %% Cifar CNN\n",
        "\n",
        "class CifarCNN(nn.Module):\n",
        "    \"\"\" CNN for the SVHN dataset copied from tutorial 3 -4  as requested\"\"\"\n",
        "    def __init__(self):\n",
        "        super(CifarCNN, self).__init__()\n",
        "\n",
        "        self.conv_layer = nn.Sequential(\n",
        "            # Conv Layer block 1\n",
        "            nn.Conv2d(in_channels=3,out_channels=32,kernel_size=3,padding=1),\n",
        "            nn.BatchNorm2d(32),\n",
        "            nn.ReLU(inplace=True),\n",
        "            nn.Conv2d(in_channels=32,out_channels=64,kernel_size=3,padding=1),\n",
        "            nn.ReLU(inplace=True),\n",
        "            nn.MaxPool2d(kernel_size=2,stride=2),\n",
        "            # Conv Layer block 2\n",
        "            nn.Conv2d(in_channels=64,out_channels=128,kernel_size=3,padding=1),\n",
        "            nn.BatchNorm2d(128),\n",
        "            nn.ReLU(inplace=True),\n",
        "            nn.Conv2d(in_channels=128,out_channels=128,kernel_size=3,padding=1),\n",
        "            nn.ReLU(inplace=True),\n",
        "            nn.MaxPool2d(kernel_size=2,stride=2),\n",
        "            nn.Dropout2d(p=0.05),\n",
        "\n",
        "            # Conv Layer block 3\n",
        "            nn.Conv2d(in_channels=128,out_channels=256,kernel_size=3,padding=1),\n",
        "            nn.BatchNorm2d(256),\n",
        "            nn.ReLU(inplace=True),\n",
        "            nn.Conv2d(in_channels=256,out_channels=256,kernel_size=3,padding=1),\n",
        "            nn.ReLU(inplace=True),nn.MaxPool2d(kernel_size=2,stride=2),\n",
        "\n",
        "        )\n",
        "\n",
        "        self.fc_layer=nn.Sequential(\n",
        "            nn.Dropout(p=0.1),\n",
        "            nn.Linear(4096,1024),\n",
        "            nn.ReLU(inplace=True),\n",
        "            nn.Linear(1024,512),\n",
        "            nn.ReLU(inplace=True),\n",
        "            nn.Dropout(p=0.1),\n",
        "            nn.Linear(512,10))\n",
        "        \n",
        "    def forward(self,x):\n",
        "        \"\"\"Perform forward.\"\"\"\n",
        "        # conv layers\n",
        "        x=self.conv_layer(x)\n",
        "        # flatten\n",
        "        x=x.view(x.size(0),-1)\n",
        "        # fc layer\n",
        "        x=self.fc_layer(x)\n",
        "        return x"
      ],
      "execution_count": 6,
      "outputs": []
    },
    {
      "cell_type": "code",
      "metadata": {
        "id": "eVCnv6GV8DLj"
      },
      "source": [
        "# %% Optimizer setup \n",
        "\n",
        "# device - cpu or gpu?\n",
        "device=torch.device(\"cuda:0\" if torch.cuda.is_available() else \"cpu\")\n",
        "\n",
        "# loss criterion\n",
        "criterion=nn.CrossEntropyLoss()\n",
        "\n",
        "# build our model and send it to the device\n",
        "model=CifarCNN().to(device)# no need for parameters as we alredy defined them in the class\n",
        "\n",
        "# optimizer - Adam\n",
        "optimizer=torch.optim.Adam(model.parameters(),lr=learning_rate)"
      ],
      "execution_count": 7,
      "outputs": []
    },
    {
      "cell_type": "code",
      "metadata": {
        "colab": {
          "base_uri": "https://localhost:8080/"
        },
        "id": "tRN2bK1EAJu3",
        "outputId": "5e79f55e-1b7f-4c5a-c195-28728faa05b2"
      },
      "source": [
        "print('Model summary:')\n",
        "summary(model, input_size=(3, 32, 32))"
      ],
      "execution_count": 8,
      "outputs": [
        {
          "output_type": "stream",
          "text": [
            "Model summary:\n",
            "----------------------------------------------------------------\n",
            "        Layer (type)               Output Shape         Param #\n",
            "================================================================\n",
            "            Conv2d-1           [-1, 32, 32, 32]             896\n",
            "       BatchNorm2d-2           [-1, 32, 32, 32]              64\n",
            "              ReLU-3           [-1, 32, 32, 32]               0\n",
            "            Conv2d-4           [-1, 64, 32, 32]          18,496\n",
            "              ReLU-5           [-1, 64, 32, 32]               0\n",
            "         MaxPool2d-6           [-1, 64, 16, 16]               0\n",
            "            Conv2d-7          [-1, 128, 16, 16]          73,856\n",
            "       BatchNorm2d-8          [-1, 128, 16, 16]             256\n",
            "              ReLU-9          [-1, 128, 16, 16]               0\n",
            "           Conv2d-10          [-1, 128, 16, 16]         147,584\n",
            "             ReLU-11          [-1, 128, 16, 16]               0\n",
            "        MaxPool2d-12            [-1, 128, 8, 8]               0\n",
            "        Dropout2d-13            [-1, 128, 8, 8]               0\n",
            "           Conv2d-14            [-1, 256, 8, 8]         295,168\n",
            "      BatchNorm2d-15            [-1, 256, 8, 8]             512\n",
            "             ReLU-16            [-1, 256, 8, 8]               0\n",
            "           Conv2d-17            [-1, 256, 8, 8]         590,080\n",
            "             ReLU-18            [-1, 256, 8, 8]               0\n",
            "        MaxPool2d-19            [-1, 256, 4, 4]               0\n",
            "          Dropout-20                 [-1, 4096]               0\n",
            "           Linear-21                 [-1, 1024]       4,195,328\n",
            "             ReLU-22                 [-1, 1024]               0\n",
            "           Linear-23                  [-1, 512]         524,800\n",
            "             ReLU-24                  [-1, 512]               0\n",
            "          Dropout-25                  [-1, 512]               0\n",
            "           Linear-26                   [-1, 10]           5,130\n",
            "================================================================\n",
            "Total params: 5,852,170\n",
            "Trainable params: 5,852,170\n",
            "Non-trainable params: 0\n",
            "----------------------------------------------------------------\n",
            "Input size (MB): 0.01\n",
            "Forward/backward pass size (MB): 3.96\n",
            "Params size (MB): 22.32\n",
            "Estimated Total Size (MB): 26.30\n",
            "----------------------------------------------------------------\n"
          ],
          "name": "stdout"
        }
      ]
    },
    {
      "cell_type": "code",
      "metadata": {
        "id": "hovM_mHP84sG"
      },
      "source": [
        "# function to calcualte accuracy of the model\n",
        "def calculate_accuracy(model,dataloader,device):\n",
        "    model.eval()# put in evaluation mode\n",
        "    total_correct=0\n",
        "    total_images=0\n",
        "    confusion_matrix=np.zeros([10,10],int)\n",
        "    with torch.no_grad():\n",
        "        for data in dataloader:\n",
        "            images,labels=data\n",
        "            images=images.to(device)\n",
        "            labels=labels.to(device)\n",
        "            outputs=model(images)\n",
        "            _,predicted=torch.max(outputs.data,1)\n",
        "            total_images+=labels.size(0)\n",
        "            total_correct+=(predicted==labels).sum().item()\n",
        "            for i,l in enumerate(labels):\n",
        "                confusion_matrix[l.item(),predicted[i].item()]+=1\n",
        "    model_accuracy=total_correct/total_images*100\n",
        "    return model_accuracy,confusion_matrix\n",
        "            "
      ],
      "execution_count": 9,
      "outputs": []
    },
    {
      "cell_type": "code",
      "metadata": {
        "id": "LCC_zQmM9tNT"
      },
      "source": [
        "# training loop\n",
        "def TrainModel(model,epochs,network_type=0):\n",
        "    for epoch in range(1,epochs+1):\n",
        "        model.train()# put in training mode\n",
        "        running_loss=0.0\n",
        "        epoch_time=time.time()\n",
        "        for i,data in enumerate(train_loader,0):\n",
        "            # get the inputs\n",
        "            inputs,labels=data# send them to device\n",
        "            inputs=inputs.to(device)\n",
        "            labels=labels.to(device)# forward + backward + optimize\n",
        "            outputs=model(inputs)# forward pass\n",
        "            loss=criterion(outputs,labels)# calculate the loss\n",
        "            # always the same 3 steps\n",
        "            optimizer.zero_grad()# zero the parameter gradients\n",
        "            loss.backward()# backpropagation\n",
        "            optimizer.step()# update parameters\n",
        "            # print statistics\n",
        "            running_loss+=loss.data.item()\n",
        "        # Normalizing the loss by the total number of train batches\n",
        "        running_loss/=len(train_loader)# Calculate training/test set accuracy of the existing model\n",
        "        train_accuracy,_=calculate_accuracy(model,train_loader,device)\n",
        "\n",
        "        \n",
        "        if network_type == 2:\n",
        "            test_accuracy,_=calculate_accuracy(model,valid_loader,device)\n",
        "            log=\"Epoch: {} | Loss: {:.4f} | Training accuracy: {:.3f}% | Validation accuracy: {:.3f}% | \".format(epoch,running_loss,train_accuracy,test_accuracy)\n",
        "        else:\n",
        "            test_accuracy,_=calculate_accuracy(model,test_loader,device)\n",
        "            log=\"Epoch: {} | Loss: {:.4f} | Training accuracy: {:.3f}% | Test accuracy: {:.3f}% | \".format(epoch,running_loss,train_accuracy,test_accuracy)\n",
        "        epoch_time=time.time()-epoch_time\n",
        "        log+=\"Epoch Time: {:.2f} secs\".format(epoch_time)\n",
        "        print(log)\n",
        "        # save model\n",
        "        if epoch%10==0:\n",
        "            print('==> Saving model ...')\n",
        "            state={'net':model.state_dict(),'epoch':epoch,}\n",
        "            if not os.path.isdir('checkpoints'):\n",
        "                os.mkdir('checkpoints')\n",
        "            if network_type == 0:\n",
        "                torch.save(state,'./checkpoints/cifar_cnn_ckpt.pth')\n",
        "            elif network_type == 1:\n",
        "                torch.save(state,'./checkpoints/our_cnn_ckpt.pth')\n",
        "            elif network_type == 2:\n",
        "                torch.save(state,'./checkpoints/our_cnn_hyperparameter_tuning_ckpt.pth')\n",
        "    print('==> Finished Training ...')\n",
        "\n",
        "\n"
      ],
      "execution_count": 24,
      "outputs": []
    },
    {
      "cell_type": "code",
      "metadata": {
        "colab": {
          "base_uri": "https://localhost:8080/"
        },
        "id": "lcFLSY0OyvEK",
        "outputId": "0a1744e4-06aa-4ca0-ad9c-73f2607c625c"
      },
      "source": [
        "# %% Train model\n",
        "TrainModel(model,epochs,network_type=0)"
      ],
      "execution_count": 11,
      "outputs": [
        {
          "output_type": "stream",
          "text": [
            "Epoch: 1 | Loss: 1.3428 | Training accuracy: 78.724% | Test accuracy: 77.774% | Epoch Time: 80.67 secs\n",
            "Epoch: 2 | Loss: 0.5329 | Training accuracy: 86.673% | Test accuracy: 86.524% | Epoch Time: 80.61 secs\n",
            "Epoch: 3 | Loss: 0.4086 | Training accuracy: 89.130% | Test accuracy: 89.448% | Epoch Time: 80.89 secs\n",
            "Epoch: 4 | Loss: 0.3534 | Training accuracy: 89.817% | Test accuracy: 90.239% | Epoch Time: 82.10 secs\n",
            "Epoch: 5 | Loss: 0.3163 | Training accuracy: 91.175% | Test accuracy: 90.527% | Epoch Time: 82.28 secs\n",
            "Epoch: 6 | Loss: 0.2914 | Training accuracy: 92.412% | Test accuracy: 92.187% | Epoch Time: 81.70 secs\n",
            "Epoch: 7 | Loss: 0.2723 | Training accuracy: 92.848% | Test accuracy: 93.132% | Epoch Time: 81.17 secs\n",
            "Epoch: 8 | Loss: 0.2585 | Training accuracy: 93.324% | Test accuracy: 92.744% | Epoch Time: 80.13 secs\n",
            "Epoch: 9 | Loss: 0.2458 | Training accuracy: 93.313% | Test accuracy: 93.020% | Epoch Time: 81.24 secs\n",
            "Epoch: 10 | Loss: 0.2338 | Training accuracy: 93.745% | Test accuracy: 93.562% | Epoch Time: 81.92 secs\n",
            "Epoch: 11 | Loss: 0.2241 | Training accuracy: 94.338% | Test accuracy: 93.700% | Epoch Time: 82.27 secs\n",
            "Epoch: 12 | Loss: 0.2173 | Training accuracy: 94.547% | Test accuracy: 94.207% | Epoch Time: 81.10 secs\n",
            "Epoch: 13 | Loss: 0.2072 | Training accuracy: 94.649% | Test accuracy: 94.119% | Epoch Time: 81.57 secs\n",
            "Epoch: 14 | Loss: 0.2009 | Training accuracy: 95.123% | Test accuracy: 94.272% | Epoch Time: 81.83 secs\n",
            "Epoch: 15 | Loss: 0.1935 | Training accuracy: 94.932% | Test accuracy: 93.992% | Epoch Time: 81.67 secs\n",
            "Epoch: 16 | Loss: 0.1875 | Training accuracy: 95.278% | Test accuracy: 94.050% | Epoch Time: 81.57 secs\n",
            "Epoch: 17 | Loss: 0.1846 | Training accuracy: 95.643% | Test accuracy: 94.407% | Epoch Time: 82.20 secs\n",
            "Epoch: 18 | Loss: 0.1742 | Training accuracy: 95.766% | Test accuracy: 94.242% | Epoch Time: 81.94 secs\n",
            "Epoch: 19 | Loss: 0.1686 | Training accuracy: 95.669% | Test accuracy: 94.707% | Epoch Time: 81.82 secs\n",
            "Epoch: 20 | Loss: 0.1649 | Training accuracy: 96.108% | Test accuracy: 94.503% | Epoch Time: 82.30 secs\n",
            "==> Saving model ...\n",
            "==> Finished Training ...\n"
          ],
          "name": "stdout"
        }
      ]
    },
    {
      "cell_type": "code",
      "metadata": {
        "colab": {
          "base_uri": "https://localhost:8080/",
          "height": 407
        },
        "id": "FZonjb6l_BUa",
        "outputId": "f7184dc3-90fc-4496-b2dc-0ccbaba39ba5"
      },
      "source": [
        "# load model, calculate accuracy and confusion matrix\n",
        "model=CifarCNN().to(device)\n",
        "state=torch.load('./checkpoints/cifar_cnn_ckpt.pth',map_location=device)\n",
        "model.load_state_dict(state['net'])\n",
        "test_accuracy,confusion_matrix=calculate_accuracy(model,test_loader,device)\n",
        "print(\"test accuracy: {:.3f}%\".format(test_accuracy))\n",
        "# plot confusion matrix\n",
        "fig,ax=plt.subplots(1,1,figsize=(8,6))\n",
        "ax.matshow(confusion_matrix,aspect='auto',vmin=0,vmax=1000,cmap=plt.get_cmap('Blues'))\n",
        "plt.ylabel('Actual Category')\n",
        "plt.yticks(range(10),classes)\n",
        "plt.xlabel('Predicted Category')\n",
        "plt.xticks(range(10),classes)\n",
        "plt.show()"
      ],
      "execution_count": 12,
      "outputs": [
        {
          "output_type": "stream",
          "text": [
            "test accuracy: 94.503%\n"
          ],
          "name": "stdout"
        },
        {
          "output_type": "display_data",
          "data": {
            "image/png": "[encoded data removed]",
            "text/plain": [
              "<Figure size 576x432 with 1 Axes>"
            ]
          },
          "metadata": {
            "tags": [],
            "needs_background": "light"
          }
        }
      ]
    },
    {
      "cell_type": "code",
      "metadata": {
        "id": "rhWhn5joNGeb"
      },
      "source": [
        "# %% Quesstion 3\n",
        "# %% Designing our network\n",
        "\n",
        "class OurModel(nn.Module):\n",
        "    \"\"\" CNN for the SVHN dataset copied from tutorial 3 -4  as requested\"\"\"\n",
        "    def __init__(self):\n",
        "        super(OurModel, self).__init__()\n",
        "\n",
        "        self.conv_layer = nn.Sequential(\n",
        "            # Conv Layer block 1\n",
        "            nn.Conv2d(in_channels=3,out_channels=64,kernel_size=3,padding=1),\n",
        "            nn.BatchNorm2d(64),\n",
        "            nn.ReLU(inplace=True),\n",
        "            nn.Conv2d(in_channels=64,out_channels=128,kernel_size=3,padding=1),\n",
        "            nn.ReLU(inplace=True),\n",
        "            nn.MaxPool2d(kernel_size=2,stride=2),\n",
        "            # Conv Layer block 2\n",
        "            nn.Conv2d(in_channels=128,out_channels=256,kernel_size=3,padding=1),\n",
        "            nn.BatchNorm2d(256),\n",
        "            nn.ReLU(inplace=True),\n",
        "            nn.Conv2d(in_channels=256,out_channels=256,kernel_size=3,padding=1),\n",
        "            nn.ReLU(inplace=True),\n",
        "            nn.MaxPool2d(kernel_size=2,stride=2),\n",
        "            nn.Dropout2d(p=0.05),\n",
        "\n",
        "            # Conv Layer block 3\n",
        "            nn.Conv2d(in_channels=256,out_channels=512,kernel_size=3,padding=1),\n",
        "            nn.BatchNorm2d(512),\n",
        "            nn.ReLU(inplace=True),\n",
        "            nn.Conv2d(in_channels=512,out_channels=512,kernel_size=3,padding=1),\n",
        "            nn.ReLU(inplace=True),nn.MaxPool2d(kernel_size=2,stride=2),\n",
        "\n",
        "        )\n",
        "\n",
        "        self.fc_layer=nn.Sequential(\n",
        "            nn.Dropout(p=0.1),\n",
        "            nn.Linear(8192,1024),\n",
        "            nn.ReLU(inplace=True),\n",
        "            nn.Linear(1024,512),\n",
        "            nn.ReLU(inplace=True),\n",
        "            nn.Dropout(p=0.1),\n",
        "            nn.Linear(512,10))\n",
        "        \n",
        "    def forward(self,x):\n",
        "        \"\"\"Perform forward.\"\"\"\n",
        "        # conv layers\n",
        "        x=self.conv_layer(x)\n",
        "        # flatten\n",
        "        x=x.view(x.size(0),-1)\n",
        "        # fc layer\n",
        "        x=self.fc_layer(x)\n",
        "        return x\n"
      ],
      "execution_count": 13,
      "outputs": []
    },
    {
      "cell_type": "code",
      "metadata": {
        "id": "-zrijs8CNcee"
      },
      "source": [
        "# %% Optimizer setup \n",
        "\n",
        "# device - cpu or gpu?\n",
        "device=torch.device(\"cuda:0\" if torch.cuda.is_available() else \"cpu\")\n",
        "\n",
        "# loss criterion\n",
        "criterion=nn.CrossEntropyLoss()\n",
        "\n",
        "# build our model and send it to the device\n",
        "Our_Model=OurModel().to(device)# no need for parameters as we alredy defined them in the class\n",
        "\n",
        "# optimizer - Adam\n",
        "optimizer=torch.optim.Adam(Our_Model.parameters(),lr=learning_rate)\n",
        "\n"
      ],
      "execution_count": 14,
      "outputs": []
    },
    {
      "cell_type": "code",
      "metadata": {
        "colab": {
          "base_uri": "https://localhost:8080/"
        },
        "id": "X1MwAbPmO4wZ",
        "outputId": "9b6a42b1-2cf0-435b-c0b9-6662c808a707"
      },
      "source": [
        "print('Our model summary:')\n",
        "summary(Our_Model, input_size=(3, 32, 32))"
      ],
      "execution_count": 15,
      "outputs": [
        {
          "output_type": "stream",
          "text": [
            "Our model summary:\n",
            "----------------------------------------------------------------\n",
            "        Layer (type)               Output Shape         Param #\n",
            "================================================================\n",
            "            Conv2d-1           [-1, 64, 32, 32]           1,792\n",
            "       BatchNorm2d-2           [-1, 64, 32, 32]             128\n",
            "              ReLU-3           [-1, 64, 32, 32]               0\n",
            "            Conv2d-4          [-1, 128, 32, 32]          73,856\n",
            "              ReLU-5          [-1, 128, 32, 32]               0\n",
            "         MaxPool2d-6          [-1, 128, 16, 16]               0\n",
            "            Conv2d-7          [-1, 256, 16, 16]         295,168\n",
            "       BatchNorm2d-8          [-1, 256, 16, 16]             512\n",
            "              ReLU-9          [-1, 256, 16, 16]               0\n",
            "           Conv2d-10          [-1, 256, 16, 16]         590,080\n",
            "             ReLU-11          [-1, 256, 16, 16]               0\n",
            "        MaxPool2d-12            [-1, 256, 8, 8]               0\n",
            "        Dropout2d-13            [-1, 256, 8, 8]               0\n",
            "           Conv2d-14            [-1, 512, 8, 8]       1,180,160\n",
            "      BatchNorm2d-15            [-1, 512, 8, 8]           1,024\n",
            "             ReLU-16            [-1, 512, 8, 8]               0\n",
            "           Conv2d-17            [-1, 512, 8, 8]       2,359,808\n",
            "             ReLU-18            [-1, 512, 8, 8]               0\n",
            "        MaxPool2d-19            [-1, 512, 4, 4]               0\n",
            "          Dropout-20                 [-1, 8192]               0\n",
            "           Linear-21                 [-1, 1024]       8,389,632\n",
            "             ReLU-22                 [-1, 1024]               0\n",
            "           Linear-23                  [-1, 512]         524,800\n",
            "             ReLU-24                  [-1, 512]               0\n",
            "          Dropout-25                  [-1, 512]               0\n",
            "           Linear-26                   [-1, 10]           5,130\n",
            "================================================================\n",
            "Total params: 13,422,090\n",
            "Trainable params: 13,422,090\n",
            "Non-trainable params: 0\n",
            "----------------------------------------------------------------\n",
            "Input size (MB): 0.01\n",
            "Forward/backward pass size (MB): 7.90\n",
            "Params size (MB): 51.20\n",
            "Estimated Total Size (MB): 59.12\n",
            "----------------------------------------------------------------\n"
          ],
          "name": "stdout"
        }
      ]
    },
    {
      "cell_type": "code",
      "metadata": {
        "colab": {
          "base_uri": "https://localhost:8080/"
        },
        "id": "FyJ4EjgeNtQ5",
        "outputId": "2cecae9d-a795-489f-8b29-625bb89df83a"
      },
      "source": [
        "# %% Train our model\n",
        "TrainModel(Our_Model,epochs,network_type=1)"
      ],
      "execution_count": 16,
      "outputs": [
        {
          "output_type": "stream",
          "text": [
            "Epoch: 1 | Loss: 1.1598 | Training accuracy: 82.761% | Test accuracy: 83.117% | Epoch Time: 121.55 secs\n",
            "Epoch: 2 | Loss: 0.4390 | Training accuracy: 89.440% | Test accuracy: 89.232% | Epoch Time: 121.59 secs\n",
            "Epoch: 3 | Loss: 0.3414 | Training accuracy: 91.335% | Test accuracy: 91.568% | Epoch Time: 121.53 secs\n",
            "Epoch: 4 | Loss: 0.2996 | Training accuracy: 92.241% | Test accuracy: 92.390% | Epoch Time: 121.46 secs\n",
            "Epoch: 5 | Loss: 0.2714 | Training accuracy: 92.928% | Test accuracy: 92.959% | Epoch Time: 121.29 secs\n",
            "Epoch: 6 | Loss: 0.2522 | Training accuracy: 93.497% | Test accuracy: 93.393% | Epoch Time: 121.39 secs\n",
            "Epoch: 7 | Loss: 0.2348 | Training accuracy: 93.841% | Test accuracy: 93.431% | Epoch Time: 121.26 secs\n",
            "Epoch: 8 | Loss: 0.2227 | Training accuracy: 94.657% | Test accuracy: 94.150% | Epoch Time: 120.89 secs\n",
            "Epoch: 9 | Loss: 0.2097 | Training accuracy: 95.020% | Test accuracy: 94.042% | Epoch Time: 121.32 secs\n",
            "Epoch: 10 | Loss: 0.1972 | Training accuracy: 95.052% | Test accuracy: 93.777% | Epoch Time: 121.41 secs\n",
            "Epoch: 11 | Loss: 0.1877 | Training accuracy: 95.109% | Test accuracy: 93.788% | Epoch Time: 121.29 secs\n",
            "Epoch: 12 | Loss: 0.1804 | Training accuracy: 95.422% | Test accuracy: 94.207% | Epoch Time: 121.38 secs\n",
            "Epoch: 13 | Loss: 0.1739 | Training accuracy: 95.461% | Test accuracy: 94.280% | Epoch Time: 121.76 secs\n",
            "Epoch: 14 | Loss: 0.1651 | Training accuracy: 96.146% | Test accuracy: 94.856% | Epoch Time: 121.29 secs\n",
            "Epoch: 15 | Loss: 0.1562 | Training accuracy: 96.428% | Test accuracy: 94.868% | Epoch Time: 121.25 secs\n",
            "Epoch: 16 | Loss: 0.1514 | Training accuracy: 96.216% | Test accuracy: 94.660% | Epoch Time: 121.60 secs\n",
            "Epoch: 17 | Loss: 0.1441 | Training accuracy: 96.485% | Test accuracy: 94.906% | Epoch Time: 121.46 secs\n",
            "Epoch: 18 | Loss: 0.1387 | Training accuracy: 96.848% | Test accuracy: 94.987% | Epoch Time: 121.40 secs\n",
            "Epoch: 19 | Loss: 0.1338 | Training accuracy: 96.959% | Test accuracy: 95.010% | Epoch Time: 121.31 secs\n",
            "Epoch: 20 | Loss: 0.1268 | Training accuracy: 97.049% | Test accuracy: 95.187% | Epoch Time: 121.05 secs\n",
            "==> Saving model ...\n",
            "==> Finished Training ...\n"
          ],
          "name": "stdout"
        }
      ]
    },
    {
      "cell_type": "code",
      "metadata": {
        "colab": {
          "base_uri": "https://localhost:8080/",
          "height": 407
        },
        "id": "by9KQnWoOKSw",
        "outputId": "d2df85da-dfc2-4891-bba2-c5517fee561b"
      },
      "source": [
        "# load model, calculate accuracy and confusion matrix\n",
        "Our_Model=OurModel().to(device)\n",
        "state=torch.load('./checkpoints/our_cnn_ckpt.pth',map_location=device)\n",
        "Our_Model.load_state_dict(state['net'])\n",
        "test_accuracy,confusion_matrix=calculate_accuracy(Our_Model,test_loader,device)\n",
        "print(\"test accuracy: {:.3f}%\".format(test_accuracy))\n",
        "# plot confusion matrix\n",
        "fig,ax=plt.subplots(1,1,figsize=(8,6))\n",
        "ax.matshow(confusion_matrix,aspect='auto',vmin=0,vmax=1000,cmap=plt.get_cmap('Blues'))\n",
        "plt.ylabel('Actual Category')\n",
        "plt.yticks(range(10),classes)\n",
        "plt.xlabel('Predicted Category')\n",
        "plt.xticks(range(10),classes)\n",
        "plt.show()"
      ],
      "execution_count": 17,
      "outputs": [
        {
          "output_type": "stream",
          "text": [
            "test accuracy: 95.187%\n"
          ],
          "name": "stdout"
        },
        {
          "output_type": "display_data",
          "data": {
            "image/png": "[encoded data removed]",
            "text/plain": [
              "<Figure size 576x432 with 1 Axes>"
            ]
          },
          "metadata": {
            "tags": [],
            "needs_background": "light"
          }
        }
      ]
    },
    {
      "cell_type": "code",
      "metadata": {
        "id": "n-7HTRrUrQ5E"
      },
      "source": [
        "# %% Quesstion 4\n",
        "# %% Train validation test split:\n",
        "\n",
        "def get_train_valid_loader(data_dir,\n",
        "                           batch_size,\n",
        "                           valid_size=0.2,\n",
        "                           shuffle=True,\n",
        "                           num_workers=1,\n",
        "                           pin_memory=True):\n",
        "    \"\"\"\n",
        "    Utility function for loading and returning train and valid \n",
        "    multi-process iterators over the MNIST dataset. A sample \n",
        "    9x9 grid of the images can be optionally displayed.\n",
        "    If using CUDA, num_workers should be set to 1 and pin_memory to True.\n",
        "    Params\n",
        "    ------\n",
        "    - data_dir: path directory to the dataset.\n",
        "    - batch_size: how many samples per batch to load.\n",
        "    - valid_size: percentage split of the training set used for\n",
        "      the validation set. Should be a float in the range [0, 1].\n",
        "    - shuffle: whether to shuffle the train/validation indices.\n",
        "    - num_workers: number of subprocesses to use when loading the dataset.\n",
        "    - pin_memory: whether to copy tensors into CUDA pinned memory. Set it to\n",
        "      True if using GPU.\n",
        "    Returns\n",
        "    -------\n",
        "    - train_loader: training set iterator.\n",
        "    - valid_loader: validation set iterator.\n",
        "    \"\"\"\n",
        "    error_msg = \"[!] valid_size should be in the range [0, 1].\"\n",
        "    assert ((valid_size >= 0) and (valid_size <= 1)), error_msg\n",
        "\n",
        "    normalize = transforms.Normalize((0.1307,), (0.3081,))  # MNIST\n",
        "\n",
        "    # define transforms\n",
        "    valid_transform = transforms.Compose([\n",
        "            transforms.ToTensor(),\n",
        "        transforms.Normalize((0.4914,0.4822,0.4465),(0.2023,0.1994,0.2010)),])\n",
        "\n",
        "\n",
        "    train_transform=transforms.Compose([\n",
        "        transforms.RandomCrop(32,padding=4),\n",
        "        transforms.RandomHorizontalFlip(),\n",
        "        transforms.ToTensor(),\n",
        "        transforms.Normalize((0.4914,0.4822,0.4465),(0.2023,0.1994,0.2010)),])\n",
        "\n",
        "    transform_test=transforms.Compose([\n",
        "        transforms.ToTensor(),\n",
        "        transforms.Normalize((0.4914,0.4822,0.4465),(0.2023,0.1994,0.2010)),])\n",
        "\n",
        "    # load the dataset\n",
        "    train_dataset = SVHN(root=data_dir, split='train',transform=transform_train, target_transform=None, download=True)\n",
        "    valid_dataset = SVHN(root=data_dir, split='train',transform=valid_transform, target_transform=None, download=True)\n",
        "    test_dataset = SVHN(root = data_dir,split='test',transform=transform_test, target_transform=None, download=True)\n",
        "\n",
        "    num_train = len(train_dataset)\n",
        "    indices = list(range(num_train))\n",
        "    split = int(np.floor(valid_size * num_train))\n",
        "\n",
        "    if shuffle == True:\n",
        "        np.random.seed(3)\n",
        "        np.random.shuffle(indices)\n",
        "\n",
        "    train_idx, valid_idx = indices[split:], indices[:split]\n",
        "\n",
        "    train_sampler = SubsetRandomSampler(train_idx)\n",
        "    valid_sampler = SubsetRandomSampler(valid_idx)\n",
        "\n",
        "    train_loader = DataLoader(train_dataset, \n",
        "                    batch_size=batch_size, sampler=train_sampler, \n",
        "                    num_workers=num_workers, pin_memory=pin_memory)\n",
        "\n",
        "    valid_loader = DataLoader(valid_dataset, \n",
        "                    batch_size=batch_size, sampler=valid_sampler, \n",
        "                    num_workers=num_workers, pin_memory=pin_memory)\n",
        "\n",
        "    test_loader = DataLoader(test_dataset,\n",
        "                             batch_size = batch_size,shuffle = False,\n",
        "                             num_workers=num_workers,pin_memory=pin_memory)\n",
        "\n",
        "\n",
        "    return train_loader, valid_loader, test_loader\n"
      ],
      "execution_count": 18,
      "outputs": []
    },
    {
      "cell_type": "code",
      "metadata": {
        "colab": {
          "base_uri": "https://localhost:8080/"
        },
        "id": "WUV3U8FrmuH8",
        "outputId": "6c71b15b-fe9f-4e32-86ce-cf1c9f14286a"
      },
      "source": [
        "# %% Fine tuning network\n",
        "\n",
        "BATCH_SIZE = 128\n",
        "learning_rate = 1.5e-4\n",
        "epochs = 30\n",
        "\n",
        "train_loader, valid_loader, test_loader = get_train_valid_loader(data_dir='./datasets',batch_size = BATCH_SIZE)\n",
        "# device - cpu or gpu?\n",
        "device=torch.device(\"cuda:0\" if torch.cuda.is_available() else \"cpu\")\n",
        "\n",
        "# loss criterion\n",
        "criterion=nn.CrossEntropyLoss()\n",
        "\n",
        "# build our model and send it to the device\n",
        "Our_Model2=OurModel().to(device)# no need for parameters as we alredy defined them in the class\n",
        "\n",
        "# optimizer - Adam\n",
        "optimizer=torch.optim.Adam(Our_Model2.parameters(),lr=learning_rate)\n"
      ],
      "execution_count": 27,
      "outputs": [
        {
          "output_type": "stream",
          "text": [
            "Using downloaded and verified file: ./datasets/train_32x32.mat\n",
            "Using downloaded and verified file: ./datasets/train_32x32.mat\n",
            "Using downloaded and verified file: ./datasets/test_32x32.mat\n"
          ],
          "name": "stdout"
        }
      ]
    },
    {
      "cell_type": "code",
      "metadata": {
        "id": "vDQwRCxyxd1D",
        "colab": {
          "base_uri": "https://localhost:8080/"
        },
        "outputId": "c2025524-e760-4084-a3b9-f8e665841a89"
      },
      "source": [
        "# %% Train model for validation\n",
        "TrainModel(Our_Model2,epochs,network_type=2)"
      ],
      "execution_count": 28,
      "outputs": [
        {
          "output_type": "stream",
          "text": [
            "Epoch: 1 | Loss: 1.1234 | Training accuracy: 83.413% | Validation accuracy: 84.131% | Epoch Time: 99.65 secs\n",
            "Epoch: 2 | Loss: 0.4383 | Training accuracy: 88.298% | Validation accuracy: 88.547% | Epoch Time: 99.31 secs\n",
            "Epoch: 3 | Loss: 0.3479 | Training accuracy: 90.615% | Validation accuracy: 90.246% | Epoch Time: 99.10 secs\n",
            "Epoch: 4 | Loss: 0.3023 | Training accuracy: 92.069% | Validation accuracy: 90.970% | Epoch Time: 99.46 secs\n",
            "Epoch: 5 | Loss: 0.2727 | Training accuracy: 92.914% | Validation accuracy: 91.782% | Epoch Time: 99.23 secs\n",
            "Epoch: 6 | Loss: 0.2564 | Training accuracy: 93.801% | Validation accuracy: 92.915% | Epoch Time: 99.66 secs\n",
            "Epoch: 7 | Loss: 0.2366 | Training accuracy: 93.936% | Validation accuracy: 92.649% | Epoch Time: 99.66 secs\n",
            "Epoch: 8 | Loss: 0.2215 | Training accuracy: 94.180% | Validation accuracy: 92.785% | Epoch Time: 100.05 secs\n",
            "Epoch: 9 | Loss: 0.2140 | Training accuracy: 94.716% | Validation accuracy: 93.018% | Epoch Time: 99.54 secs\n",
            "Epoch: 10 | Loss: 0.2007 | Training accuracy: 94.999% | Validation accuracy: 93.611% | Epoch Time: 99.37 secs\n",
            "==> Saving model ...\n",
            "Epoch: 11 | Loss: 0.1912 | Training accuracy: 95.233% | Validation accuracy: 93.700% | Epoch Time: 99.41 secs\n",
            "Epoch: 12 | Loss: 0.1835 | Training accuracy: 95.432% | Validation accuracy: 93.762% | Epoch Time: 99.26 secs\n",
            "Epoch: 13 | Loss: 0.1752 | Training accuracy: 95.569% | Validation accuracy: 93.632% | Epoch Time: 99.81 secs\n",
            "Epoch: 14 | Loss: 0.1674 | Training accuracy: 95.746% | Validation accuracy: 93.741% | Epoch Time: 99.70 secs\n",
            "Epoch: 15 | Loss: 0.1621 | Training accuracy: 96.004% | Validation accuracy: 93.755% | Epoch Time: 99.67 secs\n",
            "Epoch: 16 | Loss: 0.1528 | Training accuracy: 96.244% | Validation accuracy: 94.130% | Epoch Time: 99.51 secs\n",
            "Epoch: 17 | Loss: 0.1458 | Training accuracy: 96.378% | Validation accuracy: 93.987% | Epoch Time: 99.59 secs\n",
            "Epoch: 18 | Loss: 0.1404 | Training accuracy: 96.000% | Validation accuracy: 93.686% | Epoch Time: 99.91 secs\n",
            "Epoch: 19 | Loss: 0.1331 | Training accuracy: 96.942% | Validation accuracy: 94.151% | Epoch Time: 99.92 secs\n",
            "Epoch: 20 | Loss: 0.1295 | Training accuracy: 97.028% | Validation accuracy: 94.273% | Epoch Time: 99.62 secs\n",
            "==> Saving model ...\n",
            "Epoch: 21 | Loss: 0.1185 | Training accuracy: 97.202% | Validation accuracy: 94.321% | Epoch Time: 99.61 secs\n",
            "Epoch: 22 | Loss: 0.1179 | Training accuracy: 97.280% | Validation accuracy: 94.362% | Epoch Time: 97.93 secs\n",
            "Epoch: 23 | Loss: 0.1118 | Training accuracy: 97.386% | Validation accuracy: 94.294% | Epoch Time: 98.62 secs\n",
            "Epoch: 24 | Loss: 0.1073 | Training accuracy: 97.695% | Validation accuracy: 94.232% | Epoch Time: 98.60 secs\n",
            "Epoch: 25 | Loss: 0.1015 | Training accuracy: 97.413% | Validation accuracy: 94.212% | Epoch Time: 98.44 secs\n",
            "Epoch: 26 | Loss: 0.0988 | Training accuracy: 97.927% | Validation accuracy: 93.932% | Epoch Time: 99.31 secs\n",
            "Epoch: 27 | Loss: 0.0920 | Training accuracy: 97.872% | Validation accuracy: 94.376% | Epoch Time: 99.78 secs\n",
            "Epoch: 28 | Loss: 0.0931 | Training accuracy: 97.969% | Validation accuracy: 94.444% | Epoch Time: 99.78 secs\n",
            "Epoch: 29 | Loss: 0.0851 | Training accuracy: 98.101% | Validation accuracy: 94.437% | Epoch Time: 99.36 secs\n",
            "Epoch: 30 | Loss: 0.0820 | Training accuracy: 98.174% | Validation accuracy: 94.628% | Epoch Time: 98.62 secs\n",
            "==> Saving model ...\n",
            "==> Finished Training ...\n"
          ],
          "name": "stdout"
        }
      ]
    },
    {
      "cell_type": "code",
      "metadata": {
        "colab": {
          "base_uri": "https://localhost:8080/"
        },
        "id": "Dm9jIoDG2-FD",
        "outputId": "c552b57c-0e59-496a-9c6b-a339173daa1f"
      },
      "source": [
        "# %% Train after validation on full training set\n",
        "\n",
        "transform_train=transforms.Compose([\n",
        "        transforms.RandomCrop(32,padding=4),\n",
        "        transforms.RandomHorizontalFlip(),\n",
        "        transforms.ToTensor(),\n",
        "        transforms.Normalize((0.4914,0.4822,0.4465),(0.2023,0.1994,0.2010)),])\n",
        "\n",
        "transform_test=transforms.Compose([\n",
        "        transforms.ToTensor(),\n",
        "        transforms.Normalize((0.4914,0.4822,0.4465),(0.2023,0.1994,0.2010)),])\n",
        "\n",
        "# loading now with transforms applied\n",
        "train_dataset = SVHN(root = './datasets',split='train',transform=transform_train, target_transform=None, download=True)\n",
        "test_dataset = SVHN(root = './datasets',split='test',transform=transform_test, target_transform=None, download=True)\n",
        "\n",
        "train_loader = DataLoader(dataset = train_dataset,batch_size = BATCH_SIZE,shuffle = True, num_workers=2)\n",
        "test_loader = DataLoader(dataset = test_dataset,batch_size = BATCH_SIZE,shuffle = False,num_workers=2)\n",
        "\n",
        "# device - cpu or gpu?\n",
        "device=torch.device(\"cuda:0\" if torch.cuda.is_available() else \"cpu\")\n",
        "\n",
        "# loss criterion\n",
        "criterion=nn.CrossEntropyLoss()\n",
        "\n",
        "# build our model and send it to the device\n",
        "Our_Model2=OurModel().to(device)# no need for parameters as we alredy defined them in the class\n",
        "\n",
        "# optimizer - Adam\n",
        "optimizer=torch.optim.Adam(Our_Model2.parameters(),lr=learning_rate)"
      ],
      "execution_count": 30,
      "outputs": [
        {
          "output_type": "stream",
          "text": [
            "Using downloaded and verified file: ./datasets/train_32x32.mat\n",
            "Using downloaded and verified file: ./datasets/test_32x32.mat\n"
          ],
          "name": "stdout"
        }
      ]
    },
    {
      "cell_type": "code",
      "metadata": {
        "colab": {
          "base_uri": "https://localhost:8080/"
        },
        "id": "d-IJIICQ-OXD",
        "outputId": "ceb86b87-bc36-468b-baf8-1aa3bbe5f43d"
      },
      "source": [
        "# Validation loss here has no meanining (as we train on the whole training set and the validation set is part of it)\n",
        "TrainModel(Our_Model2,epochs,network_type=2)"
      ],
      "execution_count": 31,
      "outputs": [
        {
          "output_type": "stream",
          "text": [
            "Epoch: 1 | Loss: 1.1656 | Training accuracy: 81.480% | Validation accuracy: 81.646% | Epoch Time: 116.39 secs\n",
            "Epoch: 2 | Loss: 0.4191 | Training accuracy: 89.852% | Validation accuracy: 90.376% | Epoch Time: 117.74 secs\n",
            "Epoch: 3 | Loss: 0.3293 | Training accuracy: 90.491% | Validation accuracy: 90.936% | Epoch Time: 117.93 secs\n",
            "Epoch: 4 | Loss: 0.2933 | Training accuracy: 92.451% | Validation accuracy: 93.461% | Epoch Time: 117.64 secs\n",
            "Epoch: 5 | Loss: 0.2632 | Training accuracy: 92.788% | Validation accuracy: 93.338% | Epoch Time: 117.37 secs\n",
            "Epoch: 6 | Loss: 0.2455 | Training accuracy: 93.689% | Validation accuracy: 93.809% | Epoch Time: 117.46 secs\n",
            "Epoch: 7 | Loss: 0.2297 | Training accuracy: 93.954% | Validation accuracy: 94.608% | Epoch Time: 117.95 secs\n",
            "Epoch: 8 | Loss: 0.2168 | Training accuracy: 94.040% | Validation accuracy: 93.966% | Epoch Time: 117.11 secs\n",
            "Epoch: 9 | Loss: 0.2064 | Training accuracy: 94.906% | Validation accuracy: 94.990% | Epoch Time: 116.80 secs\n",
            "Epoch: 10 | Loss: 0.1959 | Training accuracy: 95.276% | Validation accuracy: 95.666% | Epoch Time: 117.28 secs\n",
            "==> Saving model ...\n",
            "Epoch: 11 | Loss: 0.1853 | Training accuracy: 95.430% | Validation accuracy: 95.673% | Epoch Time: 117.34 secs\n",
            "Epoch: 12 | Loss: 0.1783 | Training accuracy: 95.598% | Validation accuracy: 96.171% | Epoch Time: 116.79 secs\n",
            "Epoch: 13 | Loss: 0.1731 | Training accuracy: 95.654% | Validation accuracy: 96.150% | Epoch Time: 116.71 secs\n",
            "Epoch: 14 | Loss: 0.1655 | Training accuracy: 95.973% | Validation accuracy: 96.656% | Epoch Time: 117.07 secs\n",
            "Epoch: 15 | Loss: 0.1577 | Training accuracy: 96.115% | Validation accuracy: 96.355% | Epoch Time: 116.79 secs\n",
            "Epoch: 16 | Loss: 0.1530 | Training accuracy: 96.164% | Validation accuracy: 96.526% | Epoch Time: 115.80 secs\n",
            "Epoch: 17 | Loss: 0.1463 | Training accuracy: 96.699% | Validation accuracy: 97.195% | Epoch Time: 115.49 secs\n",
            "Epoch: 18 | Loss: 0.1387 | Training accuracy: 96.631% | Validation accuracy: 97.031% | Epoch Time: 115.52 secs\n",
            "Epoch: 19 | Loss: 0.1358 | Training accuracy: 96.761% | Validation accuracy: 97.304% | Epoch Time: 115.70 secs\n",
            "Epoch: 20 | Loss: 0.1275 | Training accuracy: 97.073% | Validation accuracy: 97.440% | Epoch Time: 115.46 secs\n",
            "==> Saving model ...\n",
            "Epoch: 21 | Loss: 0.1236 | Training accuracy: 97.251% | Validation accuracy: 97.591% | Epoch Time: 115.13 secs\n",
            "Epoch: 22 | Loss: 0.1174 | Training accuracy: 97.214% | Validation accuracy: 97.270% | Epoch Time: 115.45 secs\n",
            "Epoch: 23 | Loss: 0.1136 | Training accuracy: 97.008% | Validation accuracy: 97.243% | Epoch Time: 115.95 secs\n",
            "Epoch: 24 | Loss: 0.1102 | Training accuracy: 97.177% | Validation accuracy: 97.516% | Epoch Time: 117.32 secs\n",
            "Epoch: 25 | Loss: 0.1061 | Training accuracy: 97.699% | Validation accuracy: 97.823% | Epoch Time: 116.29 secs\n",
            "Epoch: 26 | Loss: 0.1016 | Training accuracy: 97.917% | Validation accuracy: 98.062% | Epoch Time: 116.16 secs\n",
            "Epoch: 27 | Loss: 0.0969 | Training accuracy: 97.806% | Validation accuracy: 98.137% | Epoch Time: 116.51 secs\n",
            "Epoch: 28 | Loss: 0.0930 | Training accuracy: 97.902% | Validation accuracy: 98.212% | Epoch Time: 115.76 secs\n",
            "Epoch: 29 | Loss: 0.0903 | Training accuracy: 97.802% | Validation accuracy: 98.096% | Epoch Time: 115.67 secs\n",
            "Epoch: 30 | Loss: 0.0876 | Training accuracy: 98.123% | Validation accuracy: 98.444% | Epoch Time: 115.39 secs\n",
            "==> Saving model ...\n",
            "==> Finished Training ...\n"
          ],
          "name": "stdout"
        }
      ]
    },
    {
      "cell_type": "code",
      "metadata": {
        "colab": {
          "base_uri": "https://localhost:8080/",
          "height": 407
        },
        "id": "OIjSSJJ3nS6M",
        "outputId": "88c61caf-fc42-4ba0-cfb0-de44e2f7923b"
      },
      "source": [
        "# load model, calculate accuracy and confusion matrix\n",
        "Our_Model2=OurModel().to(device)\n",
        "state=torch.load('./checkpoints/our_cnn_hyperparameter_tuning_ckpt.pth',map_location=device)\n",
        "Our_Model2.load_state_dict(state['net'])\n",
        "test_accuracy,confusion_matrix=calculate_accuracy(Our_Model2,test_loader,device)\n",
        "print(\"test accuracy: {:.3f}%\".format(test_accuracy))\n",
        "# plot confusion matrix\n",
        "fig,ax=plt.subplots(1,1,figsize=(8,6))\n",
        "ax.matshow(confusion_matrix,aspect='auto',vmin=0,vmax=1000,cmap=plt.get_cmap('Blues'))\n",
        "plt.ylabel('Actual Category')\n",
        "plt.yticks(range(10),classes)\n",
        "plt.xlabel('Predicted Category')\n",
        "plt.xticks(range(10),classes)\n",
        "plt.show()"
      ],
      "execution_count": 32,
      "outputs": [
        {
          "output_type": "stream",
          "text": [
            "test accuracy: 95.237%\n"
          ],
          "name": "stdout"
        },
        {
          "output_type": "display_data",
          "data": {
            "image/png": "[encoded data removed]",
            "text/plain": [
              "<Figure size 576x432 with 1 Axes>"
            ]
          },
          "metadata": {
            "tags": [],
            "needs_background": "light"
          }
        }
      ]
    },
    {
      "cell_type": "markdown",
      "metadata": {
        "id": "Yk8d56DMc28I"
      },
      "source": [
        "#### Part 2 - Analyzing a Pre-trained CNN\n",
        "---\n",
        "In this part you are going to analyze a (large) pre-trained model. Pre-trained models are quite popular these days, as big companies can train really large models on large datasets (something that personal users can't do as they lack the sufficient hardware). These pre-trained models can be used to fine-tune on other/small datasets or used as components in other tasks (like using a pre-trained classifier for object detection).\n",
        "\n",
        "All pre-trained models expect input images normalized in the same way, i.e. mini-batches of 3-channel RGB images of shape (3 x H x W), where H and W are expected to be at least 224. The images have to be loaded in to a range of `[0, 1]` and then normalized using `mean = [0.485, 0.456, 0.406]` and `std = [0.229, 0.224, 0.225]`. \n",
        "\n",
        "You can use the following transform to normalize:\n",
        "\n",
        "`normalize = transforms.Normalize(mean=[0.485, 0.456, 0.406], std=[0.229, 0.224, 0.225])`\n",
        "\n",
        "<a href=\"https://pytorch.org/vision/stable/models.html\">Read more here</a>\n",
        "\n",
        "1. Load a pre-trained VGG16 with PyTorch using `torchvision.models.vgg16(pretrained=True, progress=True, **kwargs)` (<a href=\"https://pytorch.org/vision/stable/models.html#classification\">read more here</a>). Don't forget to use the model in evaluation mode (`model.eval()`). \n",
        "2. Load the images in the `./birds` folder and display them.\n",
        "3. Pre-process the images to fit VGG16's architecture. What steps did you take?\n",
        "4. Feed the images (forward pass) to the model. What are the outputs?\n",
        "5. Find an image of a bird/cat/dog on the internet, display it and feed it to network. What are the outputs?\n",
        "6. Apply the following 3 transformations to create 3 *new* images from the image from step 5, and display them (`opencv` has functions for all):\n",
        "    * One **geometric transformation** (rotation, scaling, translation, warping...).\n",
        "    * One **color transformation** (thresholding, different color space, hue, saturation, brightness, contrast...).\n",
        "    * One **filter** (any filter you want).\n",
        "7. Feed the transformed images to network, what is the output? is it different than section 5?\n",
        "8. For the first 3 filters in the *first layer* of VGG16, plot the filters, and then plot their response (their output) for the image from section 5 and the 3 images from section 6 (total of 4 input images). Explain what do you see.\n",
        "    * Consult `ee046746_appndx_visualizing_cnn_filters.ipynb` to refresh your memory.\n",
        "9. For each image in the `./dogs` and `./cats` folders, extract and save their feature vectors (create a numpy array or a torch tensor that contains the features for all samples) from a fully-connected layer (such as `FC7`) of the VGG16 model. Which layer did you pick? What is the size of the feature space?\n",
        "    * You need to write a function that does the feed forward manually until the desired layer. See the example in `ee046746_appndx_visualizing_cnn_filters.ipynb`. \n",
        "10. Build a Support Vector Machine (SVM) classifier (hint: `sklearn.svm.LinearSVC`) to classify cats and dogs based on the features you extracted. Use the 20 images as train set, and choose 4 images (2 dogs, 2 cats) from the internet as test sets. You can choose a different classifer than SVM from the `scikit-learn` library, no need to explain how it works (but report the name of the algorithm you used). What are the results?"
      ]
    },
    {
      "cell_type": "markdown",
      "metadata": {
        "id": "QD3ze1VDc28I"
      },
      "source": [
        "## <img src=\"https://img.icons8.com/dusk/64/000000/prize.png\" style=\"height:50px;display:inline\"> Credits\n",
        "* Icons from <a href=\"https://icons8.com/\">Icon8.com</a> - https://icons8.com"
      ]
    }
  ]
}